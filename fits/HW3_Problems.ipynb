{
  "nbformat": 4,
  "nbformat_minor": 0,
  "metadata": {
    "colab": {
      "provenance": [],
      "authorship_tag": "ABX9TyM5c24+WvVAhrEMGHNLYCNX",
      "include_colab_link": true
    },
    "kernelspec": {
      "name": "python3",
      "display_name": "Python 3"
    },
    "language_info": {
      "name": "python"
    }
  },
  "cells": [
    {
      "cell_type": "markdown",
      "metadata": {
        "id": "view-in-github",
        "colab_type": "text"
      },
      "source": [
        "<a href=\"https://colab.research.google.com/github/mdaugherity/Numerical2024/blob/main/fits/HW3_Problems.ipynb\" target=\"_parent\"><img src=\"https://colab.research.google.com/assets/colab-badge.svg\" alt=\"Open In Colab\"/></a>"
      ]
    },
    {
      "cell_type": "markdown",
      "source": [
        "# HW 3 - Fitting and Interpolation\n",
        "**YOUR NAME HERE**, PHYS 351, Fall 2024\n"
      ],
      "metadata": {
        "id": "1ZgLqcguOwgU"
      }
    },
    {
      "cell_type": "code",
      "execution_count": 1,
      "metadata": {
        "id": "SMa-5WnEOhs8"
      },
      "outputs": [],
      "source": [
        "import numpy as np\n",
        "# you should add more stuff here..."
      ]
    },
    {
      "cell_type": "markdown",
      "source": [
        "# Problem 1\n",
        "Below is atmospheric data for relative air density (```ydata1```) vs height in km (```xdata1```).   \n",
        "1.  Fit the data with a quadratic polynomial\n",
        "1.  Set up a cubic spline interpolation of the data\n",
        "1.  Convince me that you did the last two parts right by making a plot\n",
        "1.  Find the relative density at a height of 5.5 km.  Compare the answers from the fit and the interpolation\n",
        "1.  Discuss which result is more accurate.  Why?  "
      ],
      "metadata": {
        "id": "u2dUBdy5O_Tv"
      }
    },
    {
      "cell_type": "code",
      "source": [
        "xdata1 = np.array([0.0, 1.525, 3.050, 4.575, 6.1, 7.625, 9.15])  # height [km]\n",
        "ydata1 = np.array([1.0, 0.8617, 0.7385, 0.6292, 0.5328, 0.4481, 0.3741]) # relative air density"
      ],
      "metadata": {
        "id": "-WvP-r9gPAjn"
      },
      "execution_count": 2,
      "outputs": []
    },
    {
      "cell_type": "markdown",
      "source": [
        "# Problem 2\n",
        "The relative activity of a radioactive substance is measured at 0.5 year intervals.  Use the given data to determine the half-life of the substance given\n",
        "$A(t) = A_0 e^{-\\lambda t}$  "
      ],
      "metadata": {
        "id": "4DzCKpNVQae4"
      }
    },
    {
      "cell_type": "code",
      "source": [
        "xdata2 = np.arange(0,5.51,0.5) # time [years]\n",
        "ydata2 = np.array([1.000, 0.994, 0.990, 0.985, 0.979, 0.977, 0.972, 0.969, 0.967,0.960,0.956,0.952]) # relative activity"
      ],
      "metadata": {
        "id": "JwskCYYUQx-8"
      },
      "execution_count": 3,
      "outputs": []
    },
    {
      "cell_type": "markdown",
      "source": [
        "# Problem 3\n",
        "Fit the given data to a 5-parameter function made of a gaussian plus a linear background.  Print the best-fit parameters and clearly indicate which is which.   "
      ],
      "metadata": {
        "id": "6-BfFY7dRvrs"
      }
    },
    {
      "cell_type": "code",
      "source": [
        "(xdata3, ydata3) = np.loadtxt(\"https://raw.githubusercontent.com/mdaugherity/Numerical2024/refs/heads/main/fits/hw3.txt\")"
      ],
      "metadata": {
        "id": "K75euSXsTM7C"
      },
      "execution_count": 4,
      "outputs": []
    }
  ]
}