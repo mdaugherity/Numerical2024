{
  "nbformat": 4,
  "nbformat_minor": 0,
  "metadata": {
    "colab": {
      "provenance": [],
      "authorship_tag": "ABX9TyMXUGYwqhIQtK674CQnS+pj",
      "include_colab_link": true
    },
    "kernelspec": {
      "name": "python3",
      "display_name": "Python 3"
    },
    "language_info": {
      "name": "python"
    }
  },
  "cells": [
    {
      "cell_type": "markdown",
      "metadata": {
        "id": "view-in-github",
        "colab_type": "text"
      },
      "source": [
        "<a href=\"https://colab.research.google.com/github/mdaugherity/Numerical2024/blob/main/fits/Fit_Practice.ipynb\" target=\"_parent\"><img src=\"https://colab.research.google.com/assets/colab-badge.svg\" alt=\"Open In Colab\"/></a>"
      ]
    },
    {
      "cell_type": "markdown",
      "source": [
        "# Problems for Fitting Practice"
      ],
      "metadata": {
        "id": "b9IQN3wpDygW"
      }
    },
    {
      "cell_type": "code",
      "execution_count": null,
      "metadata": {
        "id": "IYDggeP9Dt4j"
      },
      "outputs": [],
      "source": [
        "import numpy as np\n",
        "import matplotlib.pyplot as plt"
      ]
    },
    {
      "cell_type": "markdown",
      "source": [
        "# Numpy File I/O\n",
        "\n",
        "Before we begin lets take a look at reading and writing data files.  As always, there are lots of ways to do this.  Two simple ways are:\n",
        "* [load](https://numpy.org/doc/stable/reference/generated/numpy.load.html) and [save](https://numpy.org/doc/stable/reference/generated/numpy.save.html) make binary files\n",
        "* [loadtxt](https://numpy.org/doc/stable/reference/generated/numpy.loadtxt.html) and [savetxt](https://numpy.org/doc/stable/reference/generated/numpy.savetxt.html) make human-readable text files but have more restrictions\n",
        "\n",
        "I'm also a fan of using pandas with csv files.\n",
        "\n",
        "More Documentation and Other Methods:\n",
        "* https://numpy.org/doc/stable/user/how-to-io.html\n",
        "* https://numpy.org/doc/stable/reference/routines.io.html"
      ],
      "metadata": {
        "id": "55pqJ_OFD-rH"
      }
    },
    {
      "cell_type": "markdown",
      "source": [
        "## Using savetxt\n",
        "* You only want to save one array per file\n",
        "* Only works for 1D or 2D arrays\n",
        "* You can easily fake a 2D array by passing a list of 1D arrays (x,y,z)\n",
        "* Can add a delimiter to make csv or change formatting\n",
        "\n"
      ],
      "metadata": {
        "id": "YBmrQGjQGj-4"
      }
    },
    {
      "cell_type": "code",
      "source": [
        "# Make Data\n",
        "NUM = 10\n",
        "xdata = np.arange(0,NUM)\n",
        "\n",
        "slope = 2\n",
        "yint = -1\n",
        "ydata = slope*xdata + yint + 0.5*np.random.randn(NUM)\n",
        "\n",
        "print(xdata)\n",
        "print(ydata)"
      ],
      "metadata": {
        "colab": {
          "base_uri": "https://localhost:8080/"
        },
        "id": "GRzTDTtcGqrv",
        "outputId": "89a8da77-974d-42e5-8518-f0c1a4ba50dc"
      },
      "execution_count": null,
      "outputs": [
        {
          "output_type": "stream",
          "name": "stdout",
          "text": [
            "[0 1 2 3 4 5 6 7 8 9]\n",
            "[-1.23165198  1.27209053  2.983562    4.52120602  7.37676324  7.80223385\n",
            " 11.06413439 12.88916226 15.66399894 16.84516751]\n"
          ]
        }
      ]
    },
    {
      "cell_type": "code",
      "source": [
        "np.savetxt('foo.txt', (xdata, ydata))  # Makes a 2D array out of 2 1D arrays"
      ],
      "metadata": {
        "id": "iJBTgaANGw_i"
      },
      "execution_count": null,
      "outputs": []
    },
    {
      "cell_type": "markdown",
      "source": [
        "Open this up in Colab to see"
      ],
      "metadata": {
        "id": "rB-PI3tMHnTK"
      }
    },
    {
      "cell_type": "markdown",
      "source": [
        "# Using loadtxt"
      ],
      "metadata": {
        "id": "W4CqElGtHqsC"
      }
    },
    {
      "cell_type": "code",
      "source": [
        "(x, y) = np.loadtxt('foo.txt')  # load as 2 1D arrays\n",
        "print(x)\n",
        "print(y)\n",
        "plt.plot(x,y, 'ko')\n",
        "plt.show()"
      ],
      "metadata": {
        "colab": {
          "base_uri": "https://localhost:8080/",
          "height": 484
        },
        "id": "ebqmnqRuG4uK",
        "outputId": "70e89b03-9cff-4e9f-aad2-318433322cf2"
      },
      "execution_count": null,
      "outputs": [
        {
          "output_type": "stream",
          "name": "stdout",
          "text": [
            "[0. 1. 2. 3. 4. 5. 6. 7. 8. 9.]\n",
            "[-0.50396229  1.16960129  3.34428866  5.70449786  7.38424407  9.06095365\n",
            " 11.31443259 12.94033183 14.20660461 17.48846998]\n"
          ]
        },
        {
          "output_type": "display_data",
          "data": {
            "text/plain": [
              "<Figure size 640x480 with 1 Axes>"
            ],
            "image/png": "[encoded data removed]"
          },
          "metadata": {}
        }
      ]
    },
    {
      "cell_type": "code",
      "source": [
        "data = np.loadtxt('foo.txt')  # load as 2D array\n",
        "print(data)"
      ],
      "metadata": {
        "colab": {
          "base_uri": "https://localhost:8080/"
        },
        "id": "zBF2Hq_BILyk",
        "outputId": "707b4a3b-d8cf-43f8-e3e5-5f221d0a15a8"
      },
      "execution_count": null,
      "outputs": [
        {
          "output_type": "stream",
          "name": "stdout",
          "text": [
            "[[ 0.          1.          2.          3.          4.          5.\n",
            "   6.          7.          8.          9.        ]\n",
            " [-0.50396229  1.16960129  3.34428866  5.70449786  7.38424407  9.06095365\n",
            "  11.31443259 12.94033183 14.20660461 17.48846998]]\n"
          ]
        }
      ]
    },
    {
      "cell_type": "code",
      "source": [
        "x = data[0]\n",
        "y = data[1]"
      ],
      "metadata": {
        "id": "lHpgWGsmIaxz"
      },
      "execution_count": null,
      "outputs": []
    },
    {
      "cell_type": "markdown",
      "source": [
        "# Problem 1"
      ],
      "metadata": {
        "id": "yNkFpLo0GE1x"
      }
    },
    {
      "cell_type": "code",
      "source": [
        "(xdata, ydata) = np.loadtxt('https://raw.githubusercontent.com/mdaugherity/Numerical2024/refs/heads/main/fits/test.txt')\n",
        "plt.plot(xdata, ydata, 'ko')\n",
        "plt.show()"
      ],
      "metadata": {
        "colab": {
          "base_uri": "https://localhost:8080/",
          "height": 430
        },
        "id": "U6AWQL0hUe2o",
        "outputId": "4e1d334e-cbe7-487d-a1a0-51484760b7fb"
      },
      "execution_count": 29,
      "outputs": [
        {
          "output_type": "display_data",
          "data": {
            "text/plain": [
              "<Figure size 640x480 with 1 Axes>"
            ],
            "image/png": "[encoded data removed]"
          },
          "metadata": {}
        }
      ]
    },
    {
      "cell_type": "markdown",
      "source": [
        "# Problem 2"
      ],
      "metadata": {
        "id": "R1LM0P0WVTrB"
      }
    },
    {
      "cell_type": "code",
      "source": [
        "(xdata, ydata) = np.loadtxt('https://raw.githubusercontent.com/mdaugherity/Numerical2024/refs/heads/main/fits/g1.txt')"
      ],
      "metadata": {
        "id": "V5kxZgDJUvVL"
      },
      "execution_count": 30,
      "outputs": []
    },
    {
      "cell_type": "code",
      "source": [],
      "metadata": {
        "id": "UUxz7As6VXJ6"
      },
      "execution_count": null,
      "outputs": []
    }
  ]
}