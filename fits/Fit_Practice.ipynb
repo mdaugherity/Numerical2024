{
  "nbformat": 4,
  "nbformat_minor": 0,
  "metadata": {
    "colab": {
      "provenance": [],
      "authorship_tag": "ABX9TyMFzIZmhkVNx03QeQC1vhhw",
      "include_colab_link": true
    },
    "kernelspec": {
      "name": "python3",
      "display_name": "Python 3"
    },
    "language_info": {
      "name": "python"
    }
  },
  "cells": [
    {
      "cell_type": "markdown",
      "metadata": {
        "id": "view-in-github",
        "colab_type": "text"
      },
      "source": [
        "<a href=\"https://colab.research.google.com/github/mdaugherity/Numerical2024/blob/main/fits/Fit_Practice.ipynb\" target=\"_parent\"><img src=\"https://colab.research.google.com/assets/colab-badge.svg\" alt=\"Open In Colab\"/></a>"
      ]
    },
    {
      "cell_type": "markdown",
      "source": [
        "# Problems for Fitting Practice"
      ],
      "metadata": {
        "id": "b9IQN3wpDygW"
      }
    },
    {
      "cell_type": "code",
      "execution_count": 1,
      "metadata": {
        "id": "IYDggeP9Dt4j"
      },
      "outputs": [],
      "source": [
        "import numpy as np\n",
        "import matplotlib.pyplot as plt"
      ]
    },
    {
      "cell_type": "markdown",
      "source": [
        "# Numpy File I/O\n",
        "\n",
        "Before we begin lets take a look at reading and writing data files.  As always, there are lots of ways to do this.  Two simple ways are:\n",
        "* [load](https://numpy.org/doc/stable/reference/generated/numpy.load.html) and [save](https://numpy.org/doc/stable/reference/generated/numpy.save.html) make binary files\n",
        "* [loadtxt](https://numpy.org/doc/stable/reference/generated/numpy.loadtxt.html) and [savetxt](https://numpy.org/doc/stable/reference/generated/numpy.savetxt.html) make human-readable text files but have more restrictions\n",
        "\n",
        "I'm also a fan of using pandas with csv files.\n",
        "\n",
        "More Documentation and Other Methods:\n",
        "* https://numpy.org/doc/stable/user/how-to-io.html\n",
        "* https://numpy.org/doc/stable/reference/routines.io.html"
      ],
      "metadata": {
        "id": "55pqJ_OFD-rH"
      }
    },
    {
      "cell_type": "markdown",
      "source": [
        "## Using savetxt\n",
        "* You only want to save one array per file\n",
        "* Only works for 1D or 2D arrays\n",
        "* You can easily fake a 2D array by passing a list of 1D arrays (x,y,z)\n",
        "* Can add a delimiter to make csv or change formatting\n",
        "\n"
      ],
      "metadata": {
        "id": "YBmrQGjQGj-4"
      }
    },
    {
      "cell_type": "code",
      "source": [
        "# Make Data\n",
        "NUM = 10\n",
        "xdata = np.arange(0,NUM)\n",
        "\n",
        "slope = 2\n",
        "yint = -1\n",
        "ydata = slope*xdata + yint + 0.5*np.random.randn(NUM)\n",
        "\n",
        "print(xdata)\n",
        "print(ydata)"
      ],
      "metadata": {
        "colab": {
          "base_uri": "https://localhost:8080/"
        },
        "id": "GRzTDTtcGqrv",
        "outputId": "1c96f65d-c520-4058-8595-8fc9110ac7a9"
      },
      "execution_count": 2,
      "outputs": [
        {
          "output_type": "stream",
          "name": "stdout",
          "text": [
            "[0 1 2 3 4 5 6 7 8 9]\n",
            "[-1.60817676 -0.01750883  2.61489754  5.49683989  7.42173626  8.56673885\n",
            " 11.21741064 12.64904407 15.32536889 16.62676273]\n"
          ]
        }
      ]
    },
    {
      "cell_type": "code",
      "source": [
        "np.savetxt('foo.txt', (xdata, ydata))  # Makes a 2D array out of 2 1D arrays"
      ],
      "metadata": {
        "id": "iJBTgaANGw_i"
      },
      "execution_count": 3,
      "outputs": []
    },
    {
      "cell_type": "markdown",
      "source": [
        "Open this up in Colab to see"
      ],
      "metadata": {
        "id": "rB-PI3tMHnTK"
      }
    },
    {
      "cell_type": "markdown",
      "source": [
        "# Using loadtxt"
      ],
      "metadata": {
        "id": "W4CqElGtHqsC"
      }
    },
    {
      "cell_type": "code",
      "source": [
        "(x, y) = np.loadtxt('foo.txt')  # load as 2 1D arrays\n",
        "print(x)\n",
        "print(y)\n",
        "plt.plot(x,y, 'ko')\n",
        "plt.show()"
      ],
      "metadata": {
        "colab": {
          "base_uri": "https://localhost:8080/",
          "height": 487
        },
        "id": "ebqmnqRuG4uK",
        "outputId": "dc0389bc-0d54-40e9-8782-89a359601500"
      },
      "execution_count": 4,
      "outputs": [
        {
          "output_type": "stream",
          "name": "stdout",
          "text": [
            "[0. 1. 2. 3. 4. 5. 6. 7. 8. 9.]\n",
            "[-1.60817676 -0.01750883  2.61489754  5.49683989  7.42173626  8.56673885\n",
            " 11.21741064 12.64904407 15.32536889 16.62676273]\n"
          ]
        },
        {
          "output_type": "display_data",
          "data": {
            "text/plain": [
              "<Figure size 640x480 with 1 Axes>"
            ],
            "image/png": "[encoded data removed]"
          },
          "metadata": {}
        }
      ]
    },
    {
      "cell_type": "code",
      "source": [
        "data = np.loadtxt('foo.txt')  # load as 2D array\n",
        "print(data)"
      ],
      "metadata": {
        "colab": {
          "base_uri": "https://localhost:8080/"
        },
        "id": "zBF2Hq_BILyk",
        "outputId": "c3f64427-b20c-4039-d7a4-d2fbeff438f2"
      },
      "execution_count": 5,
      "outputs": [
        {
          "output_type": "stream",
          "name": "stdout",
          "text": [
            "[[ 0.          1.          2.          3.          4.          5.\n",
            "   6.          7.          8.          9.        ]\n",
            " [-1.60817676 -0.01750883  2.61489754  5.49683989  7.42173626  8.56673885\n",
            "  11.21741064 12.64904407 15.32536889 16.62676273]]\n"
          ]
        }
      ]
    },
    {
      "cell_type": "code",
      "source": [
        "x = data[0]\n",
        "y = data[1]"
      ],
      "metadata": {
        "id": "lHpgWGsmIaxz"
      },
      "execution_count": 6,
      "outputs": []
    },
    {
      "cell_type": "markdown",
      "source": [
        "# Problem 1"
      ],
      "metadata": {
        "id": "yNkFpLo0GE1x"
      }
    },
    {
      "cell_type": "code",
      "source": [
        "(xdata, ydata) = np.loadtxt('https://raw.githubusercontent.com/mdaugherity/Numerical2024/refs/heads/main/fits/test.txt')\n",
        "plt.plot(xdata, ydata, 'ko')\n",
        "plt.show()"
      ],
      "metadata": {
        "colab": {
          "base_uri": "https://localhost:8080/",
          "height": 430
        },
        "id": "U6AWQL0hUe2o",
        "outputId": "f9507bf1-5ac1-4b90-b4c4-c84f0e3bd9b2"
      },
      "execution_count": 7,
      "outputs": [
        {
          "output_type": "display_data",
          "data": {
            "text/plain": [
              "<Figure size 640x480 with 1 Axes>"
            ],
            "image/png": "[encoded data removed]"
          },
          "metadata": {}
        }
      ]
    },
    {
      "cell_type": "markdown",
      "source": [
        "# Problem 2"
      ],
      "metadata": {
        "id": "R1LM0P0WVTrB"
      }
    },
    {
      "cell_type": "code",
      "source": [
        "(xdata, ydata) = np.loadtxt('https://raw.githubusercontent.com/mdaugherity/Numerical2024/refs/heads/main/fits/g1.txt')\n",
        "plt.plot(xdata, ydata, 'ko')\n",
        "plt.show()"
      ],
      "metadata": {
        "id": "V5kxZgDJUvVL",
        "colab": {
          "base_uri": "https://localhost:8080/",
          "height": 430
        },
        "outputId": "302d8821-c396-4085-d783-ace867e96a3c"
      },
      "execution_count": 8,
      "outputs": [
        {
          "output_type": "display_data",
          "data": {
            "text/plain": [
              "<Figure size 640x480 with 1 Axes>"
            ],
            "image/png": "[encoded data removed]"
          },
          "metadata": {}
        }
      ]
    },
    {
      "cell_type": "code",
      "source": [],
      "metadata": {
        "id": "UUxz7As6VXJ6"
      },
      "execution_count": 8,
      "outputs": []
    },
    {
      "cell_type": "markdown",
      "source": [
        "# Problem 3\n",
        "\n",
        "Fit these points to the function\n",
        "$ y= A \\sin{\\frac{\\pi x}{2}} + B \\cos{\\frac{\\pi x}{2}}$"
      ],
      "metadata": {
        "id": "vkoZbhbexlMf"
      }
    },
    {
      "cell_type": "code",
      "source": [
        "xdata = np.array([-0.5, -0.19, 0.02, 0.20, 0.35, 0.50])\n",
        "ydata = np.array([-3.558, -2.874, -1.995, -1.040, -0.068, 0.677])\n",
        "plt.plot(xdata, ydata, 'ko')\n",
        "plt.show()"
      ],
      "metadata": {
        "colab": {
          "base_uri": "https://localhost:8080/",
          "height": 430
        },
        "id": "ayecGqTjx2Ki",
        "outputId": "825b8032-3889-4aa8-9c8e-4f9ff82ebae7"
      },
      "execution_count": 10,
      "outputs": [
        {
          "output_type": "display_data",
          "data": {
            "text/plain": [
              "<Figure size 640x480 with 1 Axes>"
            ],
            "image/png": "[encoded data removed]"
          },
          "metadata": {}
        }
      ]
    },
    {
      "cell_type": "markdown",
      "source": [
        "# Problem 4\n",
        "Fit these points to the function $ y=axe^{bx}$"
      ],
      "metadata": {
        "id": "hEX8F_XeysWC"
      }
    },
    {
      "cell_type": "code",
      "source": [
        "xdata = np.arange(0.5, 2.6, 0.5)\n",
        "ydata = np.array([0.541, 0.398, 0.232, 0.106, 0.052])\n",
        "plt.plot(xdata, ydata, 'ko')\n",
        "plt.show()"
      ],
      "metadata": {
        "colab": {
          "base_uri": "https://localhost:8080/",
          "height": 430
        },
        "id": "RgfFBN-3zkqk",
        "outputId": "2a4c80b6-6a08-4780-8e14-80e6e9a3515f"
      },
      "execution_count": 12,
      "outputs": [
        {
          "output_type": "display_data",
          "data": {
            "text/plain": [
              "<Figure size 640x480 with 1 Axes>"
            ],
            "image/png": "[encoded data removed]"
          },
          "metadata": {}
        }
      ]
    }
  ]
}