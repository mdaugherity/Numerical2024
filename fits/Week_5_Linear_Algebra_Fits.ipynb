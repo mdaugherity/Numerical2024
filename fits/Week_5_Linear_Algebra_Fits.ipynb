{
  "nbformat": 4,
  "nbformat_minor": 0,
  "metadata": {
    "colab": {
      "provenance": [],
      "toc_visible": true,
      "authorship_tag": "ABX9TyOX9mgpSpcgneJG2D2ygo+J",
      "include_colab_link": true
    },
    "kernelspec": {
      "name": "python3",
      "display_name": "Python 3"
    }
  },
  "cells": [
    {
      "cell_type": "markdown",
      "metadata": {
        "id": "view-in-github",
        "colab_type": "text"
      },
      "source": [
        "<a href=\"https://colab.research.google.com/github/mdaugherity/Numerical2024/blob/main/fits/Week_5_Linear_Algebra_Fits.ipynb\" target=\"_parent\"><img src=\"https://colab.research.google.com/assets/colab-badge.svg\" alt=\"Open In Colab\"/></a>"
      ]
    },
    {
      "cell_type": "markdown",
      "source": [
        "**Dr. Daugherity, PHYS 351, Fall 2024**"
      ],
      "metadata": {
        "id": "QZhiUjfhyYdt"
      }
    },
    {
      "cell_type": "code",
      "metadata": {
        "id": "GpTxIq1_xrV_"
      },
      "source": [
        "import numpy as np\n",
        "import matplotlib.pyplot as plt\n",
        "from scipy.optimize import curve_fit"
      ],
      "execution_count": 1,
      "outputs": []
    },
    {
      "cell_type": "markdown",
      "metadata": {
        "id": "yf6XGAxsq4AW"
      },
      "source": [
        "# LINEAR ALGEBRA LEAST-SQUARES FITS\n",
        "\n",
        "So how does *polyfit* actually work?  There is a wonderful way to formulate the problem using linear algebra to do a least squares fit:\n",
        "\n",
        "A = augmented (nx2) matrix:  col[0]=$x_i$,  col[1]=1\n",
        "\n",
        "c = (2x1) matrix, 2 parameters [a,b]   for y=ax+b\n",
        "\n",
        "y = (nx1) matrix $y_i$\n",
        "\n",
        "\n",
        "Use $  (A^TA)c=A^Ty $ and solve for c\n",
        "\n",
        "Note that this CAN be extended to other polynomials.   \n",
        "\n"
      ]
    },
    {
      "cell_type": "code",
      "metadata": {
        "colab": {
          "base_uri": "https://localhost:8080/",
          "height": 465
        },
        "id": "kJ32WnJyq7va",
        "outputId": "fd31064b-1835-4352-9657-62e2161cc6a1"
      },
      "source": [
        "# RIGHT ANSWER\n",
        "NUM = 10\n",
        "xdata = np.arange(0,NUM)\n",
        "m = -2\n",
        "b = 3\n",
        "ydata = -2*xdata + 3 + 0.5*np.random.randn(NUM)\n",
        "print('ACTUAL:\\t',m,b)\n",
        "p = np.polyfit(xdata,ydata,deg=1)\n",
        "print('POLYFIT\\t',p)\n",
        "xfit = np.linspace(0,NUM)\n",
        "yfit = np.polyval(p,xfit)\n",
        "\n",
        "plt.plot(xdata,ydata,'ks')\n",
        "plt.plot(xfit,yfit,'b-')\n",
        "\n",
        "plt.show()"
      ],
      "execution_count": 2,
      "outputs": [
        {
          "output_type": "stream",
          "name": "stdout",
          "text": [
            "ACTUAL:\t -2 3\n",
            "POLYFIT\t [-2.02365707  2.99333773]\n"
          ]
        },
        {
          "output_type": "display_data",
          "data": {
            "text/plain": [
              "<Figure size 640x480 with 1 Axes>"
            ],
            "image/png": "[encoded data removed]"
          },
          "metadata": {}
        }
      ]
    },
    {
      "cell_type": "markdown",
      "metadata": {
        "id": "79iRcNEJcqiW"
      },
      "source": [
        "## LINEAR ALGEBRA VERSION\n",
        "Will give identical results to polyfit.\n",
        "\n",
        "NOTE: the *reshape(m,n)* command will change a matrix to have dimensions m by n.  Either m or n can be replaced by a -1 which means \"make this the appropriate size so my matrix has the right number of elements\".  \n",
        "\n",
        "* reshape(-1,1) creates an nx1 (column) matrix\n",
        "* reshape(1,-1) creats an 1xn (row) matrix"
      ]
    },
    {
      "cell_type": "code",
      "metadata": {
        "colab": {
          "base_uri": "https://localhost:8080/"
        },
        "id": "BXXHhbJOb9tj",
        "outputId": "ecc47759-6573-4c87-cac3-d97b1bbd7494"
      },
      "source": [
        "# DEFINE MATRICES\n",
        "A = np.ones((NUM,2))  # A: first column is xdata, second column is 1's\n",
        "A[:,0] = xdata\n",
        "print(A)"
      ],
      "execution_count": 3,
      "outputs": [
        {
          "output_type": "stream",
          "name": "stdout",
          "text": [
            "[[0. 1.]\n",
            " [1. 1.]\n",
            " [2. 1.]\n",
            " [3. 1.]\n",
            " [4. 1.]\n",
            " [5. 1.]\n",
            " [6. 1.]\n",
            " [7. 1.]\n",
            " [8. 1.]\n",
            " [9. 1.]]\n"
          ]
        }
      ]
    },
    {
      "cell_type": "code",
      "source": [
        "y = ydata.reshape(-1,1) # y: (nx1) column matrix of ydata\n",
        "print(y)"
      ],
      "metadata": {
        "colab": {
          "base_uri": "https://localhost:8080/"
        },
        "id": "fudYb7qje9P6",
        "outputId": "58e00206-a5c4-4ef2-eee1-695d16c6348f"
      },
      "execution_count": 4,
      "outputs": [
        {
          "output_type": "stream",
          "name": "stdout",
          "text": [
            "[[  2.73816273]\n",
            " [  1.25688939]\n",
            " [ -1.14462517]\n",
            " [ -3.24877431]\n",
            " [ -4.80365658]\n",
            " [ -6.86129347]\n",
            " [ -9.52069578]\n",
            " [-11.34725913]\n",
            " [-12.61214566]\n",
            " [-15.5877928 ]]\n"
          ]
        }
      ]
    },
    {
      "cell_type": "code",
      "metadata": {
        "colab": {
          "base_uri": "https://localhost:8080/"
        },
        "id": "lNBJYbB9camx",
        "outputId": "1ffcdfbc-37b9-470f-9dbd-9c9864909d21"
      },
      "source": [
        "# Construct \"normal\" forms\n",
        "ANORM = A.T @ A\n",
        "#print(ANORM)\n",
        "BNORM = A.T @ y\n",
        "#print(BNORM)\n",
        "c = np.linalg.solve(ANORM,BNORM) # c is our solution\n",
        "\n",
        "print('ACTUAL:\\t',m,b)\n",
        "print('POLYFIT\\t',p)\n",
        "print('LIN ALG\\t',c.T)"
      ],
      "execution_count": 5,
      "outputs": [
        {
          "output_type": "stream",
          "name": "stdout",
          "text": [
            "ACTUAL:\t -2 3\n",
            "POLYFIT\t [-2.02365707  2.99333773]\n",
            "LIN ALG\t [[-2.02365707  2.99333773]]\n"
          ]
        }
      ]
    },
    {
      "cell_type": "code",
      "source": [
        "# If we wanted to do it in one step, the equivalent solution is:\n",
        "np.linalg.inv(A.T @ A) @ A.T @ y"
      ],
      "metadata": {
        "colab": {
          "base_uri": "https://localhost:8080/"
        },
        "id": "-6bV6KPjfFx6",
        "outputId": "85b7f5bb-f1a8-4b16-ec6c-a16e2094eb60"
      },
      "execution_count": 6,
      "outputs": [
        {
          "output_type": "execute_result",
          "data": {
            "text/plain": [
              "array([[-2.02365707],\n",
              "       [ 2.99333773]])"
            ]
          },
          "metadata": {},
          "execution_count": 6
        }
      ]
    },
    {
      "cell_type": "markdown",
      "source": [
        "# Fitting Methods Extravaganza\n",
        "Demonstrate consistent results doing a linear fit in a whole bunch of ways. This is really for educational purposes only--for a real problem I would just use *polyfit* and *curve_fit*"
      ],
      "metadata": {
        "id": "QJzOvfG1yozr"
      }
    },
    {
      "cell_type": "code",
      "source": [
        "# Make Data\n",
        "NUM = 10\n",
        "xdata = np.arange(0,NUM)\n",
        "slope = 2\n",
        "yint = -1\n",
        "ydata = slope*xdata + yint + 0.5*np.random.randn(NUM)\n",
        "\n",
        "print('Actual Slope\\t',slope)\n",
        "print('Actual y-int\\t',yint)\n",
        "\n",
        "plt.title('Fake Data')\n",
        "plt.plot(xdata,ydata,'ks')\n",
        "plt.show()"
      ],
      "metadata": {
        "colab": {
          "base_uri": "https://localhost:8080/",
          "height": 487
        },
        "id": "Og8g-IQMBkGS",
        "outputId": "95d99b30-915b-4987-8261-19c29297547c"
      },
      "execution_count": 7,
      "outputs": [
        {
          "output_type": "stream",
          "name": "stdout",
          "text": [
            "Actual Slope\t 2\n",
            "Actual y-int\t -1\n"
          ]
        },
        {
          "output_type": "display_data",
          "data": {
            "text/plain": [
              "<Figure size 640x480 with 1 Axes>"
            ],
            "image/png": "[encoded data removed]"
          },
          "metadata": {}
        }
      ]
    },
    {
      "cell_type": "markdown",
      "source": [
        "## polyfit"
      ],
      "metadata": {
        "id": "x5jgvA3MEuuM"
      }
    },
    {
      "cell_type": "code",
      "source": [
        "# Polyfit\n",
        "p = np.polyfit(xdata,ydata,deg=1)\n",
        "print(p)\n",
        "\n",
        "xfit = np.linspace(0,NUM)\n",
        "yfit = np.polyval(p,xfit)\n",
        "\n",
        "plt.plot(xdata,ydata,'ks')\n",
        "plt.plot(xfit,yfit,'b-')\n",
        "\n",
        "plt.title('Polyfit')\n",
        "plt.show()"
      ],
      "metadata": {
        "colab": {
          "base_uri": "https://localhost:8080/",
          "height": 469
        },
        "id": "sQvupHo1CDbr",
        "outputId": "2a454403-c1b4-4274-c1f0-13b0f0bfb467"
      },
      "execution_count": 8,
      "outputs": [
        {
          "output_type": "stream",
          "name": "stdout",
          "text": [
            "[ 1.92904229 -0.72441848]\n"
          ]
        },
        {
          "output_type": "display_data",
          "data": {
            "text/plain": [
              "<Figure size 640x480 with 1 Axes>"
            ],
            "image/png": "[encoded data removed]"
          },
          "metadata": {}
        }
      ]
    },
    {
      "cell_type": "markdown",
      "source": [
        "## Analytic Solution\n",
        "Solving the least squares fit equations by requiring the derivatives of the sum of square errors to be zero with respect to the fit parameters.\n"
      ],
      "metadata": {
        "id": "aNS2Srh0DGie"
      }
    },
    {
      "cell_type": "code",
      "source": [
        "xbar = xdata.mean()\n",
        "ybar = ydata.mean()\n",
        "slope_calc = (ydata*(xdata - xbar)).sum() / (xdata*(xdata - xbar)).sum()\n",
        "yint_calc = ybar - slope_calc*xbar\n",
        "print(slope_calc, yint_calc)"
      ],
      "metadata": {
        "colab": {
          "base_uri": "https://localhost:8080/"
        },
        "id": "B0N-8NsFDiD5",
        "outputId": "062fcc18-2853-4659-b19d-6809753be4dc"
      },
      "execution_count": 9,
      "outputs": [
        {
          "output_type": "stream",
          "name": "stdout",
          "text": [
            "1.9290422911943952 -0.7244184833103162\n"
          ]
        }
      ]
    },
    {
      "cell_type": "markdown",
      "metadata": {
        "id": "LRUiVxDEy6pD"
      },
      "source": [
        "## LINEAR ALGEBRA LEAST-SQUARES FITS\n",
        "\n",
        "A = augmented (nx2) matrix:  col[0]=$x_i$,  col[1]=1\n",
        "\n",
        "c = (2x1) matrix, 2 parameters [a,b]   for y=ax+b\n",
        "\n",
        "y = (nx1) matrix $y_i$\n",
        "\n",
        "\n",
        "Use $  (A^TA)c=A^Ty $ and solve for c\n",
        "\n"
      ]
    },
    {
      "cell_type": "code",
      "metadata": {
        "colab": {
          "base_uri": "https://localhost:8080/"
        },
        "outputId": "13d4b3cd-af89-4a80-9038-f0c371fdc018",
        "id": "EX7pM5gcy6pG"
      },
      "source": [
        "# DEFINE MATRICES\n",
        "A = np.ones((NUM,2))  # A: first column is xdata, second column is 1's\n",
        "A[:,0] = xdata\n",
        "#print(A)\n",
        "\n",
        "y = ydata.reshape(-1,1) # y: (nx1) column matrix of ydata\n",
        "#print(y)\n",
        "\n",
        "# Construct \"normal\" forms\n",
        "ANORM = A.T @ A\n",
        "#print(ANORM)\n",
        "BNORM = A.T @ y\n",
        "#print(BNORM)\n",
        "c = np.linalg.solve(ANORM,BNORM) # c is our solution\n",
        "\n",
        "print('LIN ALG\\t',c.T)"
      ],
      "execution_count": 10,
      "outputs": [
        {
          "output_type": "stream",
          "name": "stdout",
          "text": [
            "LIN ALG\t [[ 1.92904229 -0.72441848]]\n"
          ]
        }
      ]
    },
    {
      "cell_type": "markdown",
      "source": [
        "## curve fit"
      ],
      "metadata": {
        "id": "oQrrTaUqEe_M"
      }
    },
    {
      "cell_type": "code",
      "source": [
        "def fitfun(x,m,b):\n",
        "  return m*x+b\n",
        "\n",
        "popt, pcov = curve_fit(fitfun,xdata,ydata)\n",
        "print(popt)\n",
        "\n",
        "xfit = np.linspace(0,NUM)\n",
        "yfit = fitfun(xfit, *popt) # *popt unpacks array into function args\n",
        "\n",
        "plt.plot(xdata,ydata,'ks')\n",
        "plt.plot(xfit,yfit,'b-')"
      ],
      "metadata": {
        "colab": {
          "base_uri": "https://localhost:8080/",
          "height": 465
        },
        "id": "RnWnTP6KEelw",
        "outputId": "1fe72087-4620-4b68-bf0a-10162c8d0b59"
      },
      "execution_count": 11,
      "outputs": [
        {
          "output_type": "stream",
          "name": "stdout",
          "text": [
            "[ 1.92904229 -0.72441848]\n"
          ]
        },
        {
          "output_type": "execute_result",
          "data": {
            "text/plain": [
              "[<matplotlib.lines.Line2D at 0x7a6c8530e680>]"
            ]
          },
          "metadata": {},
          "execution_count": 11
        },
        {
          "output_type": "display_data",
          "data": {
            "text/plain": [
              "<Figure size 640x480 with 1 Axes>"
            ],
            "image/png": "[encoded data removed]"
          },
          "metadata": {}
        }
      ]
    },
    {
      "cell_type": "markdown",
      "source": [
        "## SUMMARY"
      ],
      "metadata": {
        "id": "5RwycVspExBl"
      }
    },
    {
      "cell_type": "code",
      "source": [
        "print('ACTUAL\\t',slope,yint)\n",
        "print('polyfit\\t',p)\n",
        "print('LSQcalc\\t',np.array([slope_calc, yint_calc]))\n",
        "print('LIN ALG\\t',c.T[0])\n",
        "print('Fit\\t',popt)"
      ],
      "metadata": {
        "colab": {
          "base_uri": "https://localhost:8080/"
        },
        "id": "sM5s2p7EEwd9",
        "outputId": "37b06627-9d34-4dc9-d683-16be8dedad95"
      },
      "execution_count": 12,
      "outputs": [
        {
          "output_type": "stream",
          "name": "stdout",
          "text": [
            "ACTUAL\t 2 -1\n",
            "polyfit\t [ 1.92904229 -0.72441848]\n",
            "LSQcalc\t [ 1.92904229 -0.72441848]\n",
            "LIN ALG\t [ 1.92904229 -0.72441848]\n",
            "Fit\t [ 1.92904229 -0.72441848]\n"
          ]
        }
      ]
    }
  ]
}