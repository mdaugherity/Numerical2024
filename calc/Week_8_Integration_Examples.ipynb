{
  "nbformat": 4,
  "nbformat_minor": 0,
  "metadata": {
    "colab": {
      "provenance": [],
      "authorship_tag": "ABX9TyMb/bA6wM3f0iOr0yfQGQxY",
      "include_colab_link": true
    },
    "kernelspec": {
      "name": "python3",
      "display_name": "Python 3"
    },
    "language_info": {
      "name": "python"
    }
  },
  "cells": [
    {
      "cell_type": "markdown",
      "metadata": {
        "id": "view-in-github",
        "colab_type": "text"
      },
      "source": [
        "<a href=\"https://colab.research.google.com/github/mdaugherity/Numerical2024/blob/main/calc/Week_8_Integration_Examples.ipynb\" target=\"_parent\"><img src=\"https://colab.research.google.com/assets/colab-badge.svg\" alt=\"Open In Colab\"/></a>"
      ]
    },
    {
      "cell_type": "markdown",
      "source": [
        "# Integration\n",
        "Examples of integrating fixed data points with trapz, simpson, and romberg"
      ],
      "metadata": {
        "id": "efGcpG7RQXmX"
      }
    },
    {
      "cell_type": "code",
      "execution_count": null,
      "metadata": {
        "id": "j4RTvjo9QStQ"
      },
      "outputs": [],
      "source": [
        "import numpy as np\n",
        "import matplotlib.pyplot as plt\n",
        "from scipy.integrate import simpson, romb"
      ]
    },
    {
      "cell_type": "code",
      "source": [
        "def f(x):\n",
        "  return np.exp(x)\n",
        "  #return 5*x**2+2\n",
        "\n",
        "xdata = np.linspace(0,5,num=9)\n",
        "ydata = f(xdata)\n",
        "plt.plot(xdata,ydata,'ko')\n",
        "plt.show()\n"
      ],
      "metadata": {
        "colab": {
          "base_uri": "https://localhost:8080/",
          "height": 430
        },
        "id": "02M3v-t5QoxK",
        "outputId": "516a0cc0-7a9f-4e85-887b-e432adedceca"
      },
      "execution_count": null,
      "outputs": [
        {
          "output_type": "display_data",
          "data": {
            "text/plain": [
              "<Figure size 640x480 with 1 Axes>"
            ],
            "image/png": "[encoded data removed]"
          },
          "metadata": {}
        }
      ]
    },
    {
      "cell_type": "code",
      "source": [
        "exact = np.exp(5) - 1\n",
        "print(f\"Exact:\\t{exact}\")"
      ],
      "metadata": {
        "colab": {
          "base_uri": "https://localhost:8080/"
        },
        "id": "4-v34lfiRBFP",
        "outputId": "985dfb3b-5808-45df-929d-4d46beadab68"
      },
      "execution_count": null,
      "outputs": [
        {
          "output_type": "stream",
          "name": "stdout",
          "text": [
            "Exact:\t147.4131591025766\n"
          ]
        }
      ]
    },
    {
      "cell_type": "code",
      "source": [
        "int_trap = np.trapz(ydata, xdata)\n",
        "print(f\"Trap:\\t{int_trap}\\t{exact-int_trap}\")"
      ],
      "metadata": {
        "colab": {
          "base_uri": "https://localhost:8080/"
        },
        "id": "JZ3P471KRZA6",
        "outputId": "9bce248a-aa10-41b5-cff6-7bef135c7dd8"
      },
      "execution_count": null,
      "outputs": [
        {
          "output_type": "stream",
          "name": "stdout",
          "text": [
            "Trap:\t152.18081137066676\t-4.76765226809016\n"
          ]
        }
      ]
    },
    {
      "cell_type": "code",
      "source": [
        "int_simp = simpson(ydata, x=xdata)   # must use x= or dx= to avoid a warning\n",
        "print(f\"Simp:\\t{int_simp}\\t{exact-int_simp}\")"
      ],
      "metadata": {
        "colab": {
          "base_uri": "https://localhost:8080/"
        },
        "id": "O5nTrsUMSK-K",
        "outputId": "5aa81743-cb64-438e-fac4-47cf5132be9b"
      },
      "execution_count": null,
      "outputs": [
        {
          "output_type": "stream",
          "name": "stdout",
          "text": [
            "Simp:\t147.5325407985905\t-0.11938169601390314\n"
          ]
        }
      ]
    },
    {
      "cell_type": "code",
      "source": [
        "int_romb = romb(ydata,xdata[1]-xdata[0])  # romb is WEIRD\n",
        "print(f\"Romb:\\t{int_romb}\\t{exact-int_romb}\")"
      ],
      "metadata": {
        "colab": {
          "base_uri": "https://localhost:8080/"
        },
        "id": "7DZ7JCiESupk",
        "outputId": "592f7846-b927-4759-c8af-ec9b0bb225cb"
      },
      "execution_count": null,
      "outputs": [
        {
          "output_type": "stream",
          "name": "stdout",
          "text": [
            "Romb:\t147.41902592071435\t-0.005866818137747032\n"
          ]
        }
      ]
    },
    {
      "cell_type": "code",
      "source": [
        "romb(ydata,xdata[1]-xdata[0],show=1)"
      ],
      "metadata": {
        "colab": {
          "base_uri": "https://localhost:8080/"
        },
        "id": "GHLIJ68AUxvN",
        "outputId": "93face10-486a-4764-f140-f0292364d2e7"
      },
      "execution_count": null,
      "outputs": [
        {
          "output_type": "stream",
          "name": "stdout",
          "text": [
            "Richardson Extrapolation Table for Romberg Integration\n",
            "======================================================\n",
            "373.53290 \n",
            "217.22268 165.11928 \n",
            "166.12562 149.09327 148.02487 \n",
            "152.18081 147.53254 147.42849 147.41903 \n",
            "======================================================\n"
          ]
        },
        {
          "output_type": "execute_result",
          "data": {
            "text/plain": [
              "147.41902592071435"
            ]
          },
          "metadata": {},
          "execution_count": 8
        }
      ]
    },
    {
      "cell_type": "markdown",
      "source": [
        "# CHALLENGE"
      ],
      "metadata": {
        "id": "jiQZg_GHXhbX"
      }
    },
    {
      "cell_type": "code",
      "source": [
        "def f(x):\n",
        "  return 5*x**3-7*x**2\n",
        "\n",
        "a = -4\n",
        "b = 4\n",
        "\n",
        "def fint(x):\n",
        "  return 5/4*x**4 - 7/3*x**3\n",
        "\n",
        "exact = fint(b) - fint(a)\n",
        "print(exact)"
      ],
      "metadata": {
        "colab": {
          "base_uri": "https://localhost:8080/"
        },
        "id": "AovT1GHnXicN",
        "outputId": "91ddcac5-cf90-45a1-ba76-a980d9969241"
      },
      "execution_count": null,
      "outputs": [
        {
          "output_type": "stream",
          "name": "stdout",
          "text": [
            "-298.66666666666674\n"
          ]
        }
      ]
    },
    {
      "cell_type": "code",
      "source": [
        "# TRAPEZOID\n",
        "N = 7000\n",
        "#N = 1000000000\n",
        "x = np.linspace(a,b,N)\n",
        "I = np.trapz( f(x), x)\n",
        "print('TRAP ERROR IS: ',I-exact)"
      ],
      "metadata": {
        "colab": {
          "base_uri": "https://localhost:8080/"
        },
        "id": "4hYW58aAYAVt",
        "outputId": "8f1a93ad-7a09-41bd-9ee1-9bd3e53a7718"
      },
      "execution_count": null,
      "outputs": [
        {
          "output_type": "stream",
          "name": "stdout",
          "text": [
            "TRAP ERROR IS:  -1.2193959832984547e-05\n"
          ]
        }
      ]
    },
    {
      "cell_type": "code",
      "source": [
        "# SIMPSON\n",
        "N = 3\n",
        "x = np.linspace(a,b,N)\n",
        "I = simpson( f(x), x=x)\n",
        "print('TRAP ERROR IS: ',I-exact)"
      ],
      "metadata": {
        "colab": {
          "base_uri": "https://localhost:8080/"
        },
        "id": "SJWI8Q8rY-b4",
        "outputId": "aa918a05-b199-4f6f-9fe0-bcdd0ed0dc1d"
      },
      "execution_count": null,
      "outputs": [
        {
          "output_type": "stream",
          "name": "stdout",
          "text": [
            "TRAP ERROR IS:  1.1368683772161603e-13\n"
          ]
        }
      ]
    },
    {
      "cell_type": "code",
      "source": [
        "k = 1\n",
        "N = 2**k+1\n",
        "print('N=',N)\n",
        "x = np.linspace(a,b,N)\n",
        "I = romb(f(x), x[1]-x[0])\n",
        "print('ROMB ERROR IS: ',I-exact)"
      ],
      "metadata": {
        "colab": {
          "base_uri": "https://localhost:8080/"
        },
        "id": "yRmEAxFeZeXj",
        "outputId": "4bab9c04-5c5d-45dd-c0c0-8fba25b8f63b"
      },
      "execution_count": null,
      "outputs": [
        {
          "output_type": "stream",
          "name": "stdout",
          "text": [
            "N= 3\n",
            "ROMB ERROR IS:  1.1368683772161603e-13\n"
          ]
        }
      ]
    }
  ]
}