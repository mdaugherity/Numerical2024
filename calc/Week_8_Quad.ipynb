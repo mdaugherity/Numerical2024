{
  "nbformat": 4,
  "nbformat_minor": 0,
  "metadata": {
    "colab": {
      "provenance": [],
      "authorship_tag": "ABX9TyPtWNQGJDELC/U5kSDGw00o",
      "include_colab_link": true
    },
    "kernelspec": {
      "name": "python3",
      "display_name": "Python 3"
    },
    "language_info": {
      "name": "python"
    }
  },
  "cells": [
    {
      "cell_type": "markdown",
      "metadata": {
        "id": "view-in-github",
        "colab_type": "text"
      },
      "source": [
        "<a href=\"https://colab.research.google.com/github/mdaugherity/Numerical2024/blob/main/calc/Week_8_Quad.ipynb\" target=\"_parent\"><img src=\"https://colab.research.google.com/assets/colab-badge.svg\" alt=\"Open In Colab\"/></a>"
      ]
    },
    {
      "cell_type": "markdown",
      "source": [
        "# PHYS 351\n",
        "Dr. Daugherity, Fall 2024\n",
        "\n",
        "Examples of adaptive Gaussian Quadrature"
      ],
      "metadata": {
        "id": "jrsZzdy-iEG4"
      }
    },
    {
      "cell_type": "code",
      "execution_count": null,
      "metadata": {
        "id": "LkHCYZkrh_no"
      },
      "outputs": [],
      "source": [
        "import numpy as np\n",
        "from scipy.integrate import quad"
      ]
    },
    {
      "cell_type": "markdown",
      "source": [
        "# DIY Warmup"
      ],
      "metadata": {
        "id": "98Au0VfgjnrE"
      }
    },
    {
      "cell_type": "markdown",
      "source": [
        "## N=1\n",
        "For any line, the integral from -1 to 1 is $2f(0)$"
      ],
      "metadata": {
        "id": "fK4cyW7cjrzB"
      }
    },
    {
      "cell_type": "code",
      "source": [
        "def f(x):\n",
        "  return 34*x-25.12341\n",
        "\n",
        "2*f(0)"
      ],
      "metadata": {
        "colab": {
          "base_uri": "https://localhost:8080/"
        },
        "id": "381xQ9qQjqCB",
        "outputId": "f26d354b-a407-4f95-8d99-db5b7ae646b9"
      },
      "execution_count": null,
      "outputs": [
        {
          "output_type": "execute_result",
          "data": {
            "text/plain": [
              "-50.24682"
            ]
          },
          "metadata": {},
          "execution_count": 2
        }
      ]
    },
    {
      "cell_type": "code",
      "source": [
        "quad(f,-1,1)"
      ],
      "metadata": {
        "colab": {
          "base_uri": "https://localhost:8080/"
        },
        "id": "JnVUy4iFkgSa",
        "outputId": "91ebe910-4928-4bdb-bf7d-601a3358a487"
      },
      "execution_count": null,
      "outputs": [
        {
          "output_type": "execute_result",
          "data": {
            "text/plain": [
              "(-50.24682, 5.838908316232212e-13)"
            ]
          },
          "metadata": {},
          "execution_count": 3
        }
      ]
    },
    {
      "cell_type": "markdown",
      "source": [
        "##N=2"
      ],
      "metadata": {
        "id": "CUBZh5CDkmqc"
      }
    },
    {
      "cell_type": "code",
      "source": [
        "x1 = 1/np.sqrt(3)\n",
        "x2 = -x1\n",
        "def f(x):\n",
        "  return 123+623*x-52.123123*x**2+24.2343*x**3\n",
        "\n",
        "f(x1)+f(x2)"
      ],
      "metadata": {
        "colab": {
          "base_uri": "https://localhost:8080/"
        },
        "id": "he8luiVokn-1",
        "outputId": "0a044085-125f-4b8b-83a3-52a2b4d66cbf"
      },
      "execution_count": null,
      "outputs": [
        {
          "output_type": "execute_result",
          "data": {
            "text/plain": [
              "211.25125133333336"
            ]
          },
          "metadata": {},
          "execution_count": 6
        }
      ]
    },
    {
      "cell_type": "code",
      "source": [
        "quad(f,-1,1)"
      ],
      "metadata": {
        "colab": {
          "base_uri": "https://localhost:8080/"
        },
        "id": "_70gKxx4k8vT",
        "outputId": "9780485f-34bd-4567-f2c8-992c07f3a4d8"
      },
      "execution_count": null,
      "outputs": [
        {
          "output_type": "execute_result",
          "data": {
            "text/plain": [
              "(211.25125133333336, 7.324698334350082e-12)"
            ]
          },
          "metadata": {},
          "execution_count": 7
        }
      ]
    },
    {
      "cell_type": "markdown",
      "source": [
        "# Using Quad"
      ],
      "metadata": {
        "id": "bHQvMVKojlzD"
      }
    },
    {
      "cell_type": "code",
      "source": [
        "def f(x):\n",
        "  return np.cos(x)\n",
        "\n",
        "a = 0\n",
        "b = 10\n",
        "\n",
        "quad(f, a, b)"
      ],
      "metadata": {
        "colab": {
          "base_uri": "https://localhost:8080/"
        },
        "id": "aO8ml0_VWQ67",
        "outputId": "46021370-0801-4ed6-a05f-1106ca1b353d"
      },
      "execution_count": null,
      "outputs": [
        {
          "output_type": "execute_result",
          "data": {
            "text/plain": [
              "(-0.5440211108893699, 1.4987092449765856e-12)"
            ]
          },
          "metadata": {},
          "execution_count": 8
        }
      ]
    },
    {
      "cell_type": "markdown",
      "source": [
        "QUAD returns the integral and an upper bound estimate of the error based on comparing K21-G10.   "
      ],
      "metadata": {
        "id": "JVwdOxaOWVxU"
      }
    },
    {
      "cell_type": "code",
      "source": [
        "exact = np.sin(b) - np.sin(a)\n",
        "print(f\"Exact\\t{exact}\")\n",
        "(I, err) = quad(f, a, b)\n",
        "print(f\"Quad\\t{I}\")\n",
        "print(f\"ACTUAL ERROR\\t{exact-I}\")\n",
        "print(f\"ESTIMATED ERROR\\t{err}\")"
      ],
      "metadata": {
        "colab": {
          "base_uri": "https://localhost:8080/"
        },
        "id": "5yqkAkJGiM2X",
        "outputId": "2837d2f5-6aca-45b4-c902-c7521855b72e"
      },
      "execution_count": null,
      "outputs": [
        {
          "output_type": "stream",
          "name": "stdout",
          "text": [
            "Exact\t-0.5440211108893698\n",
            "Quad\t-0.5440211108893699\n",
            "ACTUAL ERROR\t1.1102230246251565e-16\n",
            "ESTIMATED ERROR\t1.4987092449765856e-12\n"
          ]
        }
      ]
    },
    {
      "cell_type": "markdown",
      "source": [
        "You can also request full_output.  WARNING: the variable **last** shows the number of intervals.  The entries for greater than the number of intervals may be gibberish (thanks Fortran!)."
      ],
      "metadata": {
        "id": "QK1ga7dcJeWb"
      }
    },
    {
      "cell_type": "code",
      "source": [
        "quad(f, a, b, full_output=1)"
      ],
      "metadata": {
        "colab": {
          "base_uri": "https://localhost:8080/"
        },
        "id": "Q2IZpmGxjEKI",
        "outputId": "1bab2e0d-9e33-4073-f457-6fb4c53b70a4"
      },
      "execution_count": null,
      "outputs": [
        {
          "output_type": "execute_result",
          "data": {
            "text/plain": [
              "(-0.5440211108893699,\n",
              " 1.4987092449765856e-12,\n",
              " {'neval': 21,\n",
              "  'last': 1,\n",
              "  'iord': array([         1,          0,        164,          0,          0,\n",
              "                  0,          0,          0,          0,          0,\n",
              "         1634607739,  975332717, 1953702432, 1953853284,  572533794,\n",
              "         1954047348,  572537378, 1667332165,  762600564,  875900464,\n",
              "          825372724,  942682417,  909326648, 1851537465, 1684108625,\n",
              "          808285276,  875836718,  825307696,  943206449,  959853369,\n",
              "         1097751609, 1096111171, 1380261964, 1548898130,  825110900,\n",
              "          842149937,  875704371,  825569846, 1697986101, 1547055405,\n",
              "         1414743406, 1413565769, 1159742533, 1380930130,  774992988,\n",
              "          926431540,  875706672,  909588788,  909457461,  842083685],\n",
              "        dtype=int32),\n",
              "  'alist': array([0., 0., 0., 0., 0., 0., 0., 0., 0., 0., 0., 0., 0., 0., 0., 0., 0.,\n",
              "         0., 0., 0., 0., 0., 0., 0., 0., 0., 0., 0., 0., 0., 0., 0., 0., 0.,\n",
              "         0., 0., 0., 0., 0., 0., 0., 0., 0., 0., 0., 0., 0., 0., 0., 0.]),\n",
              "  'blist': array([10.,  0.,  0.,  0.,  0.,  0.,  0.,  0.,  0.,  0.,  0.,  0.,  0.,\n",
              "          0.,  0.,  0.,  0.,  0.,  0.,  0.,  0.,  0.,  0.,  0.,  0.,  0.,\n",
              "          0.,  0.,  0.,  0.,  0.,  0.,  0.,  0.,  0.,  0.,  0.,  0.,  0.,\n",
              "          0.,  0.,  0.,  0.,  0.,  0.,  0.,  0.,  0.,  0.,  0.]),\n",
              "  'rlist': array([-0.54402111,  0.        ,  0.        ,  0.        ,  0.        ,\n",
              "          0.        ,  0.        ,  0.        ,  0.        ,  0.        ,\n",
              "          0.        ,  0.        ,  0.        ,  0.        ,  0.        ,\n",
              "          0.        ,  0.        ,  0.        ,  0.        ,  0.        ,\n",
              "          0.        ,  0.        ,  0.        ,  0.        ,  0.        ,\n",
              "          0.        ,  0.        ,  0.        ,  0.        ,  0.        ,\n",
              "          0.        ,  0.        ,  0.        ,  0.        ,  0.        ,\n",
              "          0.        ,  0.        ,  0.        ,  0.        ,  0.        ,\n",
              "          0.        ,  0.        ,  0.        ,  0.        ,  0.        ,\n",
              "          0.        ,  0.        ,  0.        ,  0.        ,  0.        ]),\n",
              "  'elist': array([1.49870924e-12, 0.00000000e+00, 0.00000000e+00, 0.00000000e+00,\n",
              "         0.00000000e+00, 0.00000000e+00, 0.00000000e+00, 0.00000000e+00,\n",
              "         0.00000000e+00, 0.00000000e+00, 0.00000000e+00, 0.00000000e+00,\n",
              "         0.00000000e+00, 0.00000000e+00, 0.00000000e+00, 0.00000000e+00,\n",
              "         0.00000000e+00, 0.00000000e+00, 0.00000000e+00, 0.00000000e+00,\n",
              "         0.00000000e+00, 0.00000000e+00, 0.00000000e+00, 0.00000000e+00,\n",
              "         0.00000000e+00, 0.00000000e+00, 0.00000000e+00, 0.00000000e+00,\n",
              "         0.00000000e+00, 0.00000000e+00, 0.00000000e+00, 0.00000000e+00,\n",
              "         0.00000000e+00, 0.00000000e+00, 0.00000000e+00, 0.00000000e+00,\n",
              "         0.00000000e+00, 0.00000000e+00, 0.00000000e+00, 0.00000000e+00,\n",
              "         0.00000000e+00, 0.00000000e+00, 0.00000000e+00, 0.00000000e+00,\n",
              "         0.00000000e+00, 0.00000000e+00, 0.00000000e+00, 0.00000000e+00,\n",
              "         0.00000000e+00, 0.00000000e+00])})"
            ]
          },
          "metadata": {},
          "execution_count": 14
        }
      ]
    },
    {
      "cell_type": "markdown",
      "source": [
        "Deal with this better?"
      ],
      "metadata": {
        "id": "TtOgEu3wYi96"
      }
    },
    {
      "cell_type": "code",
      "source": [
        "def quadprint(out):\n",
        "  N = out['last']\n",
        "  print('last:',N)\n",
        "  print('neval:', out['neval'])\n",
        "  for k in ['alist', 'blist', 'rlist', 'elist']:\n",
        "    print(k, out[k][:N])\n",
        "  return"
      ],
      "metadata": {
        "id": "LKopMXaaZMdX"
      },
      "execution_count": null,
      "outputs": []
    },
    {
      "cell_type": "code",
      "source": [
        "(I, err, out) = quad(f, a, b, full_output=1)\n",
        "print('Integral: ',I)\n",
        "print('Error: ', err)\n",
        "quadprint(out)"
      ],
      "metadata": {
        "colab": {
          "base_uri": "https://localhost:8080/"
        },
        "id": "5qeRMLHqYikK",
        "outputId": "75dec653-6f3c-44c8-cba7-99d52263131f"
      },
      "execution_count": null,
      "outputs": [
        {
          "output_type": "stream",
          "name": "stdout",
          "text": [
            "Integral:  -0.5440211108893699\n",
            "Error:  1.4987092449765856e-12\n",
            "last: 1\n",
            "neval: 21\n",
            "alist [0.]\n",
            "blist [10.]\n",
            "rlist [-0.54402111]\n",
            "elist [1.49870924e-12]\n"
          ]
        }
      ]
    },
    {
      "cell_type": "markdown",
      "source": [
        "## Infinite Bounds"
      ],
      "metadata": {
        "id": "EWJeoZP7XZ_V"
      }
    },
    {
      "cell_type": "code",
      "source": [
        "def f(x):\n",
        "  return np.exp(-x)\n",
        "\n",
        "quad(f, 0, np.inf)"
      ],
      "metadata": {
        "colab": {
          "base_uri": "https://localhost:8080/"
        },
        "id": "KlA8prGlknNT",
        "outputId": "8b14bb4d-3b63-4267-befa-9f31945bbefa"
      },
      "execution_count": null,
      "outputs": [
        {
          "output_type": "execute_result",
          "data": {
            "text/plain": [
              "(1.0000000000000002, 5.842606742906004e-11)"
            ]
          },
          "metadata": {},
          "execution_count": 16
        }
      ]
    },
    {
      "cell_type": "markdown",
      "source": [
        "## Two Intervals\n"
      ],
      "metadata": {
        "id": "G23Uf6iAXdfB"
      }
    },
    {
      "cell_type": "code",
      "source": [
        "(I, err, out) = quad(lambda x:x**19, -1, 1, full_output=1)\n",
        "print('Integral: ',I)\n",
        "print('Error: ', err)\n",
        "quadprint(out)"
      ],
      "metadata": {
        "colab": {
          "base_uri": "https://localhost:8080/"
        },
        "id": "Fjmw-av4hvmb",
        "outputId": "1880c1ba-4753-4aa1-e818-dba8845b04a8"
      },
      "execution_count": null,
      "outputs": [
        {
          "output_type": "stream",
          "name": "stdout",
          "text": [
            "Integral:  0.0\n",
            "Error:  1.1102230246252337e-15\n",
            "last: 1\n",
            "neval: 21\n",
            "alist [-1.]\n",
            "blist [1.]\n",
            "rlist [0.]\n",
            "elist [1.11022302e-15]\n"
          ]
        }
      ]
    },
    {
      "cell_type": "code",
      "source": [
        "(I, err, out) = quad(lambda x:x**20, -1, 1, full_output=1)\n",
        "print('Integral: ',I)\n",
        "print('Error: ', err)\n",
        "quadprint(out)"
      ],
      "metadata": {
        "colab": {
          "base_uri": "https://localhost:8080/"
        },
        "id": "i2phNfkQYAoz",
        "outputId": "ff75a92a-cf8c-4e7f-b6b5-28b2997f6f8b"
      },
      "execution_count": null,
      "outputs": [
        {
          "output_type": "stream",
          "name": "stdout",
          "text": [
            "Integral:  0.09523809523809527\n",
            "Error:  3.335055349289531e-14\n",
            "last: 2\n",
            "neval: 63\n",
            "alist [-1.  0.]\n",
            "blist [0. 1.]\n",
            "rlist [0.04761905 0.04761905]\n",
            "elist [1.66752784e-14 1.66752784e-14]\n"
          ]
        }
      ]
    }
  ]
}