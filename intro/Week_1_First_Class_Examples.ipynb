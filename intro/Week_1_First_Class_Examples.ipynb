{
  "nbformat": 4,
  "nbformat_minor": 0,
  "metadata": {
    "colab": {
      "provenance": [],
      "authorship_tag": "ABX9TyOPFizSXVDJZ+hlcYPFMxBb",
      "include_colab_link": true
    },
    "kernelspec": {
      "name": "python3",
      "display_name": "Python 3"
    },
    "language_info": {
      "name": "python"
    }
  },
  "cells": [
    {
      "cell_type": "markdown",
      "metadata": {
        "id": "view-in-github",
        "colab_type": "text"
      },
      "source": [
        "<a href=\"https://colab.research.google.com/github/mdaugherity/Numerical2024/blob/main/intro/Week_1_First_Class_Examples.ipynb\" target=\"_parent\"><img src=\"https://colab.research.google.com/assets/colab-badge.svg\" alt=\"Open In Colab\"/></a>"
      ]
    },
    {
      "cell_type": "code",
      "source": [
        "import numpy as np\n",
        "import matplotlib.pyplot as plt"
      ],
      "metadata": {
        "id": "qGp6iTtLJ5K2"
      },
      "execution_count": 1,
      "outputs": []
    },
    {
      "cell_type": "markdown",
      "source": [
        "# PHYS 351 - Fall 2024\n",
        "First python examples!"
      ],
      "metadata": {
        "id": "ueSP32N2J4w_"
      }
    },
    {
      "cell_type": "markdown",
      "source": [
        "# Title\n",
        "## Heading\n",
        "### Sub heading\n",
        "#### sub sub heading\n",
        "\n",
        "I can **bold** and *italize* text\n",
        "\n",
        "Example code\n",
        "\n",
        "\n",
        "```\n",
        "x=2\n",
        "```\n",
        "\n",
        "[GOOGLE IT](https://www.google.com)\n"
      ],
      "metadata": {
        "id": "A_KghH7E_rY0"
      }
    },
    {
      "cell_type": "markdown",
      "source": [
        "# Math!\n",
        "\n",
        "$ hello how are you$\n",
        "\n",
        "$ x=2$\n",
        "\n",
        "We can use symbols\n",
        "$ \\beta * \\alpha =2  $\n",
        "\n",
        "Moar examples plez:\n",
        "$ \\frac{1}{2}$\n",
        "\n",
        "$ \\int_{x=0}^{\\infty} x dx$\n",
        "\n",
        "My favorite one ever\n",
        "$\\nabla$\n",
        "\n"
      ],
      "metadata": {
        "id": "SXLgqDZgAxx7"
      }
    },
    {
      "cell_type": "markdown",
      "source": [
        "# Numerical Methods Mysteries\n",
        "\n"
      ],
      "metadata": {
        "id": "YiCIA6hwAxPP"
      }
    },
    {
      "cell_type": "code",
      "execution_count": 2,
      "metadata": {
        "colab": {
          "base_uri": "https://localhost:8080/"
        },
        "id": "3DPU05tX_S-E",
        "outputId": "13f485c1-357a-4d12-86ea-0089eea423d8"
      },
      "outputs": [
        {
          "output_type": "execute_result",
          "data": {
            "text/plain": [
              "3.2"
            ]
          },
          "metadata": {},
          "execution_count": 2
        }
      ],
      "source": [
        "2.6 + 0.6"
      ]
    },
    {
      "cell_type": "code",
      "source": [
        "2.6 + 0.2 + 0.2 + 0.2"
      ],
      "metadata": {
        "colab": {
          "base_uri": "https://localhost:8080/"
        },
        "id": "VYJs65-wB7mQ",
        "outputId": "34843e08-f8c4-48a4-d13a-2fef51fe00f9"
      },
      "execution_count": 3,
      "outputs": [
        {
          "output_type": "execute_result",
          "data": {
            "text/plain": [
              "3.2000000000000006"
            ]
          },
          "metadata": {},
          "execution_count": 3
        }
      ]
    },
    {
      "cell_type": "markdown",
      "source": [
        "# Using Notebooks"
      ],
      "metadata": {
        "id": "cIFIuNohClHS"
      }
    },
    {
      "cell_type": "markdown",
      "source": [
        "Be careful about moving cells around, check before you quit"
      ],
      "metadata": {
        "id": "VINH2pplCqlC"
      }
    },
    {
      "cell_type": "code",
      "source": [
        "x = 2"
      ],
      "metadata": {
        "id": "iCoug8EZCvU3"
      },
      "execution_count": 4,
      "outputs": []
    },
    {
      "cell_type": "code",
      "source": [
        "print(x)"
      ],
      "metadata": {
        "colab": {
          "base_uri": "https://localhost:8080/"
        },
        "id": "7TY7LmXGCxRH",
        "outputId": "c81bd133-117b-4ccd-bb4f-b4ad2e0aec9e"
      },
      "execution_count": 5,
      "outputs": [
        {
          "output_type": "stream",
          "name": "stdout",
          "text": [
            "2\n"
          ]
        }
      ]
    },
    {
      "cell_type": "code",
      "source": [],
      "metadata": {
        "id": "jxE3hYoQDAc1"
      },
      "execution_count": 5,
      "outputs": []
    },
    {
      "cell_type": "markdown",
      "source": [
        "# Python Cheat Sheet"
      ],
      "metadata": {
        "id": "Fjm6iO_WGvan"
      }
    },
    {
      "cell_type": "markdown",
      "source": [
        "## Logic"
      ],
      "metadata": {
        "id": "7Pu8WzEuGx7p"
      }
    },
    {
      "cell_type": "code",
      "source": [
        "x = 3\n",
        "if x==3:\n",
        "  print('It was 3')\n",
        "  print('This happens')"
      ],
      "metadata": {
        "colab": {
          "base_uri": "https://localhost:8080/"
        },
        "id": "9F5OkVzPGxLc",
        "outputId": "d237f70b-0f06-4292-e3e0-cc8f7ef12010"
      },
      "execution_count": 6,
      "outputs": [
        {
          "output_type": "stream",
          "name": "stdout",
          "text": [
            "It was 3\n",
            "This happens\n"
          ]
        }
      ]
    },
    {
      "cell_type": "code",
      "source": [
        "x = 5\n",
        "if x==3:\n",
        "  print('It was 3')\n",
        "  print('This happens')\n",
        "else:\n",
        "  print('It wasnt 3')"
      ],
      "metadata": {
        "colab": {
          "base_uri": "https://localhost:8080/"
        },
        "id": "ItgIVLRxHbeC",
        "outputId": "0c39cf29-28f9-4d1f-d63e-7d522d9907a9"
      },
      "execution_count": 7,
      "outputs": [
        {
          "output_type": "stream",
          "name": "stdout",
          "text": [
            "It wasnt 3\n"
          ]
        }
      ]
    },
    {
      "cell_type": "code",
      "source": [
        "x=3\n",
        "y=2\n",
        "if (x==3 and y==2) or x>0:\n",
        "  print('OK')\n"
      ],
      "metadata": {
        "colab": {
          "base_uri": "https://localhost:8080/"
        },
        "id": "FxxjeFx8Hj8p",
        "outputId": "26c98436-1fe1-4d45-cd83-0dfd0d070a44"
      },
      "execution_count": 8,
      "outputs": [
        {
          "output_type": "stream",
          "name": "stdout",
          "text": [
            "OK\n"
          ]
        }
      ]
    },
    {
      "cell_type": "code",
      "source": [
        "x=5\n",
        "if x==3:\n",
        "  print('it was 3')\n",
        "elif x==4:\n",
        "  print('it was NOT 3, but it was 4')\n",
        "else:\n",
        "  print('not 3 or 4')\n"
      ],
      "metadata": {
        "colab": {
          "base_uri": "https://localhost:8080/"
        },
        "id": "5dTq19v5H44S",
        "outputId": "4cb9e1a6-db14-4574-955f-8e85b13da9dd"
      },
      "execution_count": 9,
      "outputs": [
        {
          "output_type": "stream",
          "name": "stdout",
          "text": [
            "not 3 or 4\n"
          ]
        }
      ]
    },
    {
      "cell_type": "markdown",
      "source": [
        "**WARNING:** NEVER EVER EVER EVER USE == with floating point numbers"
      ],
      "metadata": {
        "id": "XIL9E_YzIfy3"
      }
    },
    {
      "cell_type": "code",
      "source": [
        "# BAD BAD BAD\n",
        "a = 3.2\n",
        "b = 2.6 +0.2 + 0.2 + 0.2\n",
        "if a==b:\n",
        "  print('EQUAL')"
      ],
      "metadata": {
        "id": "sdkYUC6eITrm"
      },
      "execution_count": 10,
      "outputs": []
    },
    {
      "cell_type": "code",
      "source": [
        "a-b"
      ],
      "metadata": {
        "colab": {
          "base_uri": "https://localhost:8080/"
        },
        "id": "vbWR4CeIJRw5",
        "outputId": "a05d4dfd-7851-435f-92dc-2795937fad75"
      },
      "execution_count": 11,
      "outputs": [
        {
          "output_type": "execute_result",
          "data": {
            "text/plain": [
              "-4.440892098500626e-16"
            ]
          },
          "metadata": {},
          "execution_count": 11
        }
      ]
    },
    {
      "cell_type": "code",
      "source": [
        "a=0\n",
        "b=99999\n",
        "if a-b< 1e-10:\n",
        "  print('CLOSE')"
      ],
      "metadata": {
        "colab": {
          "base_uri": "https://localhost:8080/"
        },
        "id": "z5p2XWynJOGY",
        "outputId": "b1043424-75fc-4463-af00-13aa78e3a8ab"
      },
      "execution_count": 12,
      "outputs": [
        {
          "output_type": "stream",
          "name": "stdout",
          "text": [
            "CLOSE\n"
          ]
        }
      ]
    },
    {
      "cell_type": "code",
      "source": [
        "a = 3.2\n",
        "b = 2.6 +0.2 + 0.2 + 0.2\n",
        "if np.abs(a-b)< 1e-6:\n",
        "  print('Close enough')"
      ],
      "metadata": {
        "colab": {
          "base_uri": "https://localhost:8080/"
        },
        "id": "vEucGpc-J-jU",
        "outputId": "146d34c7-e322-4036-8f34-b44a6acd2143"
      },
      "execution_count": 13,
      "outputs": [
        {
          "output_type": "stream",
          "name": "stdout",
          "text": [
            "Close enough\n"
          ]
        }
      ]
    },
    {
      "cell_type": "code",
      "source": [
        "np.allclose(a,b)"
      ],
      "metadata": {
        "colab": {
          "base_uri": "https://localhost:8080/"
        },
        "id": "ercGvdeVKVMF",
        "outputId": "93fccb21-bc86-4155-b33e-d14b238b1902"
      },
      "execution_count": 14,
      "outputs": [
        {
          "output_type": "execute_result",
          "data": {
            "text/plain": [
              "True"
            ]
          },
          "metadata": {},
          "execution_count": 14
        }
      ]
    },
    {
      "cell_type": "markdown",
      "source": [
        "# LOOPS"
      ],
      "metadata": {
        "id": "yx-DLZ2PKp1P"
      }
    },
    {
      "cell_type": "code",
      "source": [
        "# REMEMBER: FOR LOOPS OPERATE ON LISTS!!!!!!!\n",
        "for i in [1,2,3, 4.234234, 'steve']:\n",
        "  print(i)"
      ],
      "metadata": {
        "colab": {
          "base_uri": "https://localhost:8080/"
        },
        "id": "yZsJNywHKrON",
        "outputId": "0c1a9cf6-be48-46d3-8276-b03847d514a5"
      },
      "execution_count": 15,
      "outputs": [
        {
          "output_type": "stream",
          "name": "stdout",
          "text": [
            "1\n",
            "2\n",
            "3\n",
            "4.234234\n",
            "steve\n"
          ]
        }
      ]
    },
    {
      "cell_type": "code",
      "source": [
        "for i in range(5):\n",
        "  print(i)"
      ],
      "metadata": {
        "colab": {
          "base_uri": "https://localhost:8080/"
        },
        "id": "def5c4OpK4pU",
        "outputId": "20814f92-b00a-4b8e-eebd-5b01fe911df7"
      },
      "execution_count": 16,
      "outputs": [
        {
          "output_type": "stream",
          "name": "stdout",
          "text": [
            "0\n",
            "1\n",
            "2\n",
            "3\n",
            "4\n"
          ]
        }
      ]
    },
    {
      "cell_type": "code",
      "source": [
        "x=0\n",
        "while x<10:\n",
        "  x+=1"
      ],
      "metadata": {
        "id": "22st7_8ULS70"
      },
      "execution_count": 17,
      "outputs": []
    },
    {
      "cell_type": "code",
      "source": [
        "x"
      ],
      "metadata": {
        "colab": {
          "base_uri": "https://localhost:8080/"
        },
        "id": "JTN_kgWeLh5X",
        "outputId": "3fa9e4d8-eaef-41a5-d769-fccaab5d3844"
      },
      "execution_count": 18,
      "outputs": [
        {
          "output_type": "execute_result",
          "data": {
            "text/plain": [
              "10"
            ]
          },
          "metadata": {},
          "execution_count": 18
        }
      ]
    },
    {
      "cell_type": "markdown",
      "source": [
        "# ARRAYS"
      ],
      "metadata": {
        "id": "YX87r-B4L02w"
      }
    },
    {
      "cell_type": "code",
      "source": [
        "np.array( [1,2,3])"
      ],
      "metadata": {
        "colab": {
          "base_uri": "https://localhost:8080/"
        },
        "id": "e9IqIuTkLPxG",
        "outputId": "2f1e19cf-73cf-4ff7-9b3a-7034fe383ff4"
      },
      "execution_count": 19,
      "outputs": [
        {
          "output_type": "execute_result",
          "data": {
            "text/plain": [
              "array([1, 2, 3])"
            ]
          },
          "metadata": {},
          "execution_count": 19
        }
      ]
    },
    {
      "cell_type": "code",
      "source": [
        "np.array([[1,2,3], [4,5,6]])"
      ],
      "metadata": {
        "colab": {
          "base_uri": "https://localhost:8080/"
        },
        "id": "KF318uJWL-oB",
        "outputId": "572c2809-b730-4efc-cbbe-ed8027cc8aa0"
      },
      "execution_count": 20,
      "outputs": [
        {
          "output_type": "execute_result",
          "data": {
            "text/plain": [
              "array([[1, 2, 3],\n",
              "       [4, 5, 6]])"
            ]
          },
          "metadata": {},
          "execution_count": 20
        }
      ]
    },
    {
      "cell_type": "code",
      "source": [
        "a = np.array([[1,2,3], [4,5,6]])\n",
        "a.shape"
      ],
      "metadata": {
        "colab": {
          "base_uri": "https://localhost:8080/"
        },
        "id": "t_YlJmtFMFVj",
        "outputId": "e9388ddb-3dca-426e-d33e-7fa855ca6233"
      },
      "execution_count": 21,
      "outputs": [
        {
          "output_type": "execute_result",
          "data": {
            "text/plain": [
              "(2, 3)"
            ]
          },
          "metadata": {},
          "execution_count": 21
        }
      ]
    },
    {
      "cell_type": "markdown",
      "source": [
        "## ARANGE"
      ],
      "metadata": {
        "id": "i32ZgBwLM72N"
      }
    },
    {
      "cell_type": "code",
      "source": [
        "np.arange(5)"
      ],
      "metadata": {
        "colab": {
          "base_uri": "https://localhost:8080/"
        },
        "id": "TA6w_6ZXMLNA",
        "outputId": "22195f61-05bd-4f80-efdc-2bad6520d690"
      },
      "execution_count": 22,
      "outputs": [
        {
          "output_type": "execute_result",
          "data": {
            "text/plain": [
              "array([0, 1, 2, 3, 4])"
            ]
          },
          "metadata": {},
          "execution_count": 22
        }
      ]
    },
    {
      "cell_type": "code",
      "source": [
        "np.arange(3,6) # start, stop;   note how it stops before end"
      ],
      "metadata": {
        "colab": {
          "base_uri": "https://localhost:8080/"
        },
        "id": "qEL8-RvjMXxL",
        "outputId": "713d21f3-ce71-41ce-abc1-a05138d860bc"
      },
      "execution_count": 23,
      "outputs": [
        {
          "output_type": "execute_result",
          "data": {
            "text/plain": [
              "array([3, 4, 5])"
            ]
          },
          "metadata": {},
          "execution_count": 23
        }
      ]
    },
    {
      "cell_type": "code",
      "source": [
        "np.arange(0, 10, 2)  #start, stop, step"
      ],
      "metadata": {
        "colab": {
          "base_uri": "https://localhost:8080/"
        },
        "id": "JNIsnolqMXCs",
        "outputId": "56a5ba80-2d04-4f4c-d5ff-f45114c8a8c3"
      },
      "execution_count": 24,
      "outputs": [
        {
          "output_type": "execute_result",
          "data": {
            "text/plain": [
              "array([0, 2, 4, 6, 8])"
            ]
          },
          "metadata": {},
          "execution_count": 24
        }
      ]
    },
    {
      "cell_type": "code",
      "source": [
        "np.arange(0, 10, 0.5)"
      ],
      "metadata": {
        "colab": {
          "base_uri": "https://localhost:8080/"
        },
        "id": "wby0bRF8M1l7",
        "outputId": "0973fb40-080b-4796-c1b0-ca289e17b7ff"
      },
      "execution_count": 25,
      "outputs": [
        {
          "output_type": "execute_result",
          "data": {
            "text/plain": [
              "array([0. , 0.5, 1. , 1.5, 2. , 2.5, 3. , 3.5, 4. , 4.5, 5. , 5.5, 6. ,\n",
              "       6.5, 7. , 7.5, 8. , 8.5, 9. , 9.5])"
            ]
          },
          "metadata": {},
          "execution_count": 25
        }
      ]
    },
    {
      "cell_type": "markdown",
      "source": [
        "## LINSPACE"
      ],
      "metadata": {
        "id": "YkWR8tZ_M5XS"
      }
    },
    {
      "cell_type": "code",
      "source": [
        "np.linspace(0,10, 11)"
      ],
      "metadata": {
        "colab": {
          "base_uri": "https://localhost:8080/"
        },
        "id": "hYefc5kPNKjY",
        "outputId": "71cd1e60-e94f-4795-8f1d-deac5ac52746"
      },
      "execution_count": 26,
      "outputs": [
        {
          "output_type": "execute_result",
          "data": {
            "text/plain": [
              "array([ 0.,  1.,  2.,  3.,  4.,  5.,  6.,  7.,  8.,  9., 10.])"
            ]
          },
          "metadata": {},
          "execution_count": 26
        }
      ]
    },
    {
      "cell_type": "code",
      "source": [
        "np.linspace(0,5, 50)"
      ],
      "metadata": {
        "colab": {
          "base_uri": "https://localhost:8080/"
        },
        "id": "dvebpHjTNTAu",
        "outputId": "c4cfc4c4-bdad-462f-e310-4946ec000f5b"
      },
      "execution_count": 27,
      "outputs": [
        {
          "output_type": "execute_result",
          "data": {
            "text/plain": [
              "array([0.        , 0.10204082, 0.20408163, 0.30612245, 0.40816327,\n",
              "       0.51020408, 0.6122449 , 0.71428571, 0.81632653, 0.91836735,\n",
              "       1.02040816, 1.12244898, 1.2244898 , 1.32653061, 1.42857143,\n",
              "       1.53061224, 1.63265306, 1.73469388, 1.83673469, 1.93877551,\n",
              "       2.04081633, 2.14285714, 2.24489796, 2.34693878, 2.44897959,\n",
              "       2.55102041, 2.65306122, 2.75510204, 2.85714286, 2.95918367,\n",
              "       3.06122449, 3.16326531, 3.26530612, 3.36734694, 3.46938776,\n",
              "       3.57142857, 3.67346939, 3.7755102 , 3.87755102, 3.97959184,\n",
              "       4.08163265, 4.18367347, 4.28571429, 4.3877551 , 4.48979592,\n",
              "       4.59183673, 4.69387755, 4.79591837, 4.89795918, 5.        ])"
            ]
          },
          "metadata": {},
          "execution_count": 27
        }
      ]
    },
    {
      "cell_type": "markdown",
      "source": [
        "# PLOTS"
      ],
      "metadata": {
        "id": "bo9rp2AbNhvy"
      }
    },
    {
      "cell_type": "code",
      "source": [
        "x = np.linspace(0,10,10)\n",
        "y = np.sin(x)\n",
        "plt.plot(x,y,'ro-')\n",
        "plt.title('MY PLOT')\n",
        "plt.xlabel('X axis')\n",
        "plt.ylabel('Y axis label goes here')\n",
        "plt.grid()\n",
        "\n",
        "plt.show()\n"
      ],
      "metadata": {
        "colab": {
          "base_uri": "https://localhost:8080/",
          "height": 472
        },
        "id": "XPo-Z1tVN44j",
        "outputId": "b3d7caff-0c1b-4028-cd26-48d4e50cc951"
      },
      "execution_count": 28,
      "outputs": [
        {
          "output_type": "display_data",
          "data": {
            "text/plain": [
              "<Figure size 640x480 with 1 Axes>"
            ],
            "image/png": "[encoded data removed]"
          },
          "metadata": {}
        }
      ]
    },
    {
      "cell_type": "markdown",
      "source": [
        "# PRACTICE"
      ],
      "metadata": {
        "id": "jGGjSsnYPhno"
      }
    },
    {
      "cell_type": "code",
      "source": [
        "# NO ARRAY VERSION\n",
        "g=0.04\n",
        "t=0\n",
        "v=0\n",
        "y=0\n",
        "\n",
        "while t<30:\n",
        "  #v=g*t\n",
        "  v=t\n",
        "  y=y+v\n",
        "  t+=1\n",
        "  #print(t,v,y)\n",
        "  print(f\"{t}\\t{v}\\t{y:0.2f}\")\n",
        "  #print(f\"{t}\\t{v}\\t{y:0.2f}\")"
      ],
      "metadata": {
        "colab": {
          "base_uri": "https://localhost:8080/"
        },
        "id": "_AIIrl0ePM7s",
        "outputId": "a33b9835-6e53-46c1-dba3-67ecbd803bd5"
      },
      "execution_count": 32,
      "outputs": [
        {
          "output_type": "stream",
          "name": "stdout",
          "text": [
            "1\t0\t0.00\n",
            "2\t1\t1.00\n",
            "3\t2\t3.00\n",
            "4\t3\t6.00\n",
            "5\t4\t10.00\n",
            "6\t5\t15.00\n",
            "7\t6\t21.00\n",
            "8\t7\t28.00\n",
            "9\t8\t36.00\n",
            "10\t9\t45.00\n",
            "11\t10\t55.00\n",
            "12\t11\t66.00\n",
            "13\t12\t78.00\n",
            "14\t13\t91.00\n",
            "15\t14\t105.00\n",
            "16\t15\t120.00\n",
            "17\t16\t136.00\n",
            "18\t17\t153.00\n",
            "19\t18\t171.00\n",
            "20\t19\t190.00\n",
            "21\t20\t210.00\n",
            "22\t21\t231.00\n",
            "23\t22\t253.00\n",
            "24\t23\t276.00\n",
            "25\t24\t300.00\n",
            "26\t25\t325.00\n",
            "27\t26\t351.00\n",
            "28\t27\t378.00\n",
            "29\t28\t406.00\n",
            "30\t29\t435.00\n"
          ]
        }
      ]
    },
    {
      "cell_type": "code",
      "source": [
        "2**-4"
      ],
      "metadata": {
        "id": "110eiRfdWUOw",
        "colab": {
          "base_uri": "https://localhost:8080/"
        },
        "outputId": "6ed5782e-c0b2-477c-cfc0-ed058a519521"
      },
      "execution_count": 38,
      "outputs": [
        {
          "output_type": "execute_result",
          "data": {
            "text/plain": [
              "0.0625"
            ]
          },
          "metadata": {},
          "execution_count": 38
        }
      ]
    },
    {
      "cell_type": "code",
      "source": [
        "0.04/2**-5"
      ],
      "metadata": {
        "colab": {
          "base_uri": "https://localhost:8080/"
        },
        "id": "9h3Ed0FqCITH",
        "outputId": "9b5c2fdc-7887-4880-dc3b-bee6b0df4ccc"
      },
      "execution_count": 39,
      "outputs": [
        {
          "output_type": "execute_result",
          "data": {
            "text/plain": [
              "1.28"
            ]
          },
          "metadata": {},
          "execution_count": 39
        }
      ]
    },
    {
      "cell_type": "code",
      "source": [
        "2**-6"
      ],
      "metadata": {
        "colab": {
          "base_uri": "https://localhost:8080/"
        },
        "id": "KIh8H2t_CY-f",
        "outputId": "52cced9e-4ec2-47c7-cbf3-d96c1592ca76"
      },
      "execution_count": 42,
      "outputs": [
        {
          "output_type": "execute_result",
          "data": {
            "text/plain": [
              "0.015625"
            ]
          },
          "metadata": {},
          "execution_count": 42
        }
      ]
    },
    {
      "cell_type": "code",
      "source": [
        "np.zeros((3,2))"
      ],
      "metadata": {
        "colab": {
          "base_uri": "https://localhost:8080/"
        },
        "id": "RJFbbrDsWQbR",
        "outputId": "1ce3ecd5-38d3-4163-e6a0-8a21961a8566"
      },
      "execution_count": 30,
      "outputs": [
        {
          "output_type": "execute_result",
          "data": {
            "text/plain": [
              "array([[0., 0.],\n",
              "       [0., 0.],\n",
              "       [0., 0.]])"
            ]
          },
          "metadata": {},
          "execution_count": 30
        }
      ]
    },
    {
      "cell_type": "code",
      "source": [
        "# array version\n",
        "N = 10\n",
        "t = np.arange(N)\n",
        "v = g*t\n",
        "y = np.zeros_like(v)\n",
        "\n",
        "for i in range(1,N):\n",
        "  y[i] = y[i-1]+v[i]\n",
        "\n",
        "yint = 0.5 * g * t**2\n",
        "\n",
        "plt.plot(t,y, 'bs-')\n",
        "plt.plot(t,yint, 'ro--')\n",
        "\n",
        "plt.grid()\n",
        "\n",
        "plt.title('BOAT DROP MYSTERY')\n",
        "plt.xlabel('ticks')\n",
        "plt.ylabel('y [blocks]')\n",
        "#print(y)"
      ],
      "metadata": {
        "colab": {
          "base_uri": "https://localhost:8080/",
          "height": 489
        },
        "id": "RAoO_cQrS9vV",
        "outputId": "281a0cc7-9bd3-4305-80e1-008ee043fc68"
      },
      "execution_count": 31,
      "outputs": [
        {
          "output_type": "execute_result",
          "data": {
            "text/plain": [
              "Text(0, 0.5, 'y [blocks]')"
            ]
          },
          "metadata": {},
          "execution_count": 31
        },
        {
          "output_type": "display_data",
          "data": {
            "text/plain": [
              "<Figure size 640x480 with 1 Axes>"
            ],
            "image/png": "[encoded data removed]"
          },
          "metadata": {}
        }
      ]
    }
  ]
}