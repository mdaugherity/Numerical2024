{
  "nbformat": 4,
  "nbformat_minor": 0,
  "metadata": {
    "colab": {
      "provenance": [],
      "authorship_tag": "ABX9TyMMvu41Xc8n509XOn14TWeq",
      "include_colab_link": true
    },
    "kernelspec": {
      "name": "python3",
      "display_name": "Python 3"
    }
  },
  "cells": [
    {
      "cell_type": "markdown",
      "metadata": {
        "id": "view-in-github",
        "colab_type": "text"
      },
      "source": [
        "<a href=\"https://colab.research.google.com/github/mdaugherity/Numerical2024/blob/main/roots/Week_4_Root_Finding_Problem.ipynb\" target=\"_parent\"><img src=\"https://colab.research.google.com/assets/colab-badge.svg\" alt=\"Open In Colab\"/></a>"
      ]
    },
    {
      "cell_type": "code",
      "metadata": {
        "id": "ExsHp1V-L13o"
      },
      "source": [
        "import numpy as np\n",
        "import matplotlib.pyplot as plt"
      ],
      "execution_count": 1,
      "outputs": []
    },
    {
      "cell_type": "markdown",
      "metadata": {
        "id": "soTF1DpDL2jL"
      },
      "source": [
        "# Examples of root finding problems"
      ]
    },
    {
      "cell_type": "markdown",
      "metadata": {
        "id": "IL7RStGJMP4Z"
      },
      "source": [
        "# PROBLEM 1\n",
        "Find E where PsiRight = 0.  Need EVERY root between E= 0 and 50"
      ]
    },
    {
      "cell_type": "code",
      "metadata": {
        "id": "Wp_bVhYLLpVe"
      },
      "source": [
        "def IntegrateTISE(x,V,E,psi0=0,psi1=1e-6):\n",
        "  '''\n",
        "  Uses eq (2.7) to calculate Psi by integrating the TISE\n",
        "  INPUT: x and V arrays, energy E, psi0=psi[0]=psi at x[0], psi1=psi[1]\n",
        "  RETURNS: psi array\n",
        "  '''\n",
        "# INITIALIZE\n",
        "  psi = np.zeros_like(x)\n",
        "  psi[0] = psi0\n",
        "  psi[1] = psi1\n",
        "  dx = x[1] - x[0]\n",
        "  N = len(x)\n",
        "\n",
        "  # MAIN LOOP\n",
        "  for i in range(2,N):\n",
        "    thisPsi = psi[i-1]\n",
        "    lastPsi = psi[i-2]\n",
        "    psi[i] = 2*thisPsi*(1 - dx**2 * (E-V[i])) - lastPsi # eq 2.7\n",
        "\n",
        "  return psi"
      ],
      "execution_count": 2,
      "outputs": []
    },
    {
      "cell_type": "code",
      "metadata": {
        "id": "wDlT4TH5MF9j"
      },
      "source": [
        "xMax = 1.5\n",
        "dx = 0.001\n",
        "x = np.arange(-xMax,xMax+dx,dx)\n",
        "V = 50*np.heaviside(np.abs(x)-0.5,1) # Heaviside=0 for x<0, 1 for x>0\n",
        "\n",
        "def PsiRight(E):  # return only the last psi for root finding\n",
        "  psi = IntegrateTISE(x,V,E)\n",
        "  return psi[-1]"
      ],
      "execution_count": 3,
      "outputs": []
    },
    {
      "cell_type": "code",
      "metadata": {
        "id": "MJHBll5NMGrQ",
        "outputId": "94c2dc37-456a-4d0b-bd05-62b1c602adb1",
        "colab": {
          "base_uri": "https://localhost:8080/"
        }
      },
      "source": [
        "PsiRight(0)"
      ],
      "execution_count": 4,
      "outputs": [
        {
          "output_type": "execute_result",
          "data": {
            "text/plain": [
              "145534.09548019548"
            ]
          },
          "metadata": {},
          "execution_count": 4
        }
      ]
    },
    {
      "cell_type": "code",
      "metadata": {
        "colab": {
          "base_uri": "https://localhost:8080/"
        },
        "id": "pcQCD09gMd4z",
        "outputId": "53132c8c-b313-43fe-f603-2cbaf60d1e74"
      },
      "source": [
        "PsiRight(10)"
      ],
      "execution_count": 5,
      "outputs": [
        {
          "output_type": "execute_result",
          "data": {
            "text/plain": [
              "-3172.798295974798"
            ]
          },
          "metadata": {},
          "execution_count": 5
        }
      ]
    },
    {
      "cell_type": "markdown",
      "source": [
        "Notice that this version of PsiRight can't accept an array as input.  We can fix that pretty easily:"
      ],
      "metadata": {
        "id": "jQKQG6o-G19w"
      }
    },
    {
      "cell_type": "code",
      "source": [
        "def PsiRightArray(E):  # runs PsiRight for each energy value in array E\n",
        "  return [PsiRight(e) for e in E]"
      ],
      "metadata": {
        "id": "7mqdxEiCG2VZ"
      },
      "execution_count": 6,
      "outputs": []
    },
    {
      "cell_type": "code",
      "source": [
        "# check that this works\n",
        "ES = np.arange(1,5)\n",
        "\n",
        "print('Using PsiRight:')\n",
        "for e in ES:\n",
        "  print(PsiRight(e))\n",
        "\n",
        "print('\\nUsing PsiRightArray:')\n",
        "print(PsiRightArray(ES))"
      ],
      "metadata": {
        "colab": {
          "base_uri": "https://localhost:8080/"
        },
        "id": "7RSdn2hCHa-f",
        "outputId": "a8bae467-2d33-433c-dbb1-a9e3425c9a16"
      },
      "execution_count": 7,
      "outputs": [
        {
          "output_type": "stream",
          "name": "stdout",
          "text": [
            "Using PsiRight:\n",
            "70993.99085435629\n",
            "28398.90659683256\n",
            "5610.253506038384\n",
            "-5301.847309744133\n",
            "\n",
            "Using PsiRightArray:\n",
            "[70993.99085435629, 28398.90659683256, 5610.253506038384, -5301.847309744133]\n"
          ]
        }
      ]
    },
    {
      "cell_type": "markdown",
      "source": [
        "PsiRightArray will make plotting the function much easier"
      ],
      "metadata": {
        "id": "GLzgsjEuH_PJ"
      }
    }
  ]
}