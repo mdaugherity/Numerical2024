{
  "nbformat": 4,
  "nbformat_minor": 0,
  "metadata": {
    "colab": {
      "provenance": [],
      "authorship_tag": "ABX9TyMfj2uvP3bjaIEEVKpkbmQm",
      "include_colab_link": true
    },
    "kernelspec": {
      "name": "python3",
      "display_name": "Python 3"
    },
    "language_info": {
      "name": "python"
    }
  },
  "cells": [
    {
      "cell_type": "markdown",
      "metadata": {
        "id": "view-in-github",
        "colab_type": "text"
      },
      "source": [
        "<a href=\"https://colab.research.google.com/github/mdaugherity/Numerical2024/blob/main/roots/Week_3_Root_Finding.ipynb\" target=\"_parent\"><img src=\"https://colab.research.google.com/assets/colab-badge.svg\" alt=\"Open In Colab\"/></a>"
      ]
    },
    {
      "cell_type": "markdown",
      "source": [
        "# ROOT FINDING Examples\n",
        "## PHYS 351, Fall 2022\n",
        "##  Dr. Daugherity, Abilene Christian University\n",
        "Solving NON-linear equations.  For any equation you can subtract the right side from the left side and finding the x that makes it zero.   \n",
        "\n",
        "*Example*:  Instead of $x^2=4$ find $x$ that makes $x^2-4=0$\n",
        "\n",
        "This notebook demonstrates 3 common algorithms for root finding, then shows the built-in method using scipy.root_scalar\n",
        "\n"
      ],
      "metadata": {
        "id": "J928abwEzCQu"
      }
    },
    {
      "cell_type": "code",
      "metadata": {
        "id": "VEMSF6YMm8PI"
      },
      "source": [
        "import numpy as np\n",
        "import matplotlib.pyplot as plt"
      ],
      "execution_count": null,
      "outputs": []
    },
    {
      "cell_type": "markdown",
      "metadata": {
        "id": "vibliz72KXjZ"
      },
      "source": [
        "Define a function to find roots for:\n",
        "\n",
        " $f(x)=0$\n",
        "   "
      ]
    },
    {
      "cell_type": "code",
      "metadata": {
        "id": "WaHsEHPBnCll"
      },
      "source": [
        "def f(x):\n",
        "  return 5-x  # a difficult equation, the solution is x=5"
      ],
      "execution_count": null,
      "outputs": []
    },
    {
      "cell_type": "markdown",
      "metadata": {
        "id": "9RcLFTgfLA77"
      },
      "source": [
        "## Bisection version 1 - simple loop"
      ]
    },
    {
      "cell_type": "code",
      "metadata": {
        "colab": {
          "base_uri": "https://localhost:8080/"
        },
        "id": "ZMKT17AAnTT8",
        "outputId": "372f798e-dd7b-4832-eff9-dc7789c3fca4"
      },
      "source": [
        "xl = 1\n",
        "xr = 10\n",
        "fl = f(xl)\n",
        "fr = f(xr)\n",
        "\n",
        "STEPS = 20\n",
        "print(f\"{'i':3}{'left':20}{'mid':20}{'right':20}\")\n",
        "for i in range(STEPS):\n",
        "  xm = (xl+xr)/2\n",
        "  fm = f(xm)\n",
        "  print(f\"{i:<3}{xl:<20}{xm:<20}{xr:<20}\")\n",
        "  if fl*fm<0:  # left and mid have diff signs\n",
        "    xr = xm  # root between xl and xm\n",
        "    fr = fm\n",
        "  else:\n",
        "    xl = xm  # root between xm and xr\n",
        "    fl = fm\n",
        "\n",
        "print('\\nroot is between:',xl,' and ', xr)"
      ],
      "execution_count": null,
      "outputs": [
        {
          "output_type": "stream",
          "name": "stdout",
          "text": [
            "i  left                mid                 right               \n",
            "0  1                   5.5                 10                  \n",
            "1  1                   3.25                5.5                 \n",
            "2  3.25                4.375               5.5                 \n",
            "3  4.375               4.9375              5.5                 \n",
            "4  4.9375              5.21875             5.5                 \n",
            "5  4.9375              5.078125            5.21875             \n",
            "6  4.9375              5.0078125           5.078125            \n",
            "7  4.9375              4.97265625          5.0078125           \n",
            "8  4.97265625          4.990234375         5.0078125           \n",
            "9  4.990234375         4.9990234375        5.0078125           \n",
            "10 4.9990234375        5.00341796875       5.0078125           \n",
            "11 4.9990234375        5.001220703125      5.00341796875       \n",
            "12 4.9990234375        5.0001220703125     5.001220703125      \n",
            "13 4.9990234375        4.99957275390625    5.0001220703125     \n",
            "14 4.99957275390625    4.999847412109375   5.0001220703125     \n",
            "15 4.999847412109375   4.9999847412109375  5.0001220703125     \n",
            "16 4.9999847412109375  5.000053405761719   5.0001220703125     \n",
            "17 4.9999847412109375  5.000019073486328   5.000053405761719   \n",
            "18 4.9999847412109375  5.000001907348633   5.000019073486328   \n",
            "19 4.9999847412109375  4.999993324279785   5.000001907348633   \n",
            "\n",
            "root is between: 4.999993324279785  and  5.000001907348633\n"
          ]
        }
      ]
    },
    {
      "cell_type": "markdown",
      "metadata": {
        "id": "QXkuR1nALE1e"
      },
      "source": [
        "## VERSION 2 - Define max error tolerance\n",
        "\n",
        "Notice that machine precision means we can't get errors smaller than $10^{-15}$ reliably.   "
      ]
    },
    {
      "cell_type": "code",
      "metadata": {
        "colab": {
          "base_uri": "https://localhost:8080/"
        },
        "id": "1dDTOYDMn_ZV",
        "outputId": "220efd33-45df-46d7-c08f-f604799d2b19"
      },
      "source": [
        "xl = 1\n",
        "xr = 10\n",
        "fl = f(xl)\n",
        "fr = f(xr)\n",
        "err = xr-xl\n",
        "tol = 1e-10  # max error goal\n",
        "print(f\"{'err':^25}{'left':^25}{'mid':^25}{'right':^25}\")\n",
        "while err>tol:\n",
        "  xm = (xl+xr)/2\n",
        "  fm = f(xm)\n",
        "\n",
        "  if fl*fm<0:  # left and mid have diff signs\n",
        "    xr = xm  # root between xl and xm\n",
        "    fr = fm\n",
        "  else:\n",
        "    xl = xm  # root between xm and xr\n",
        "    fl = fm\n",
        "  err = xr-xl\n",
        "  #print(f\"{err:25}{xl:25}{xm:25}{xr:25}\")\n",
        "  #print(f\"{err:<25}{xl:<25}{xm:<25}{xr:<25}\")\n",
        "  print(f\"{err:25.15e}{xl:25.15f}{xm:25.15f}{xr:25.15f}\")\n",
        "\n",
        "print('root is between:',xl,' and ', xr)\n"
      ],
      "execution_count": null,
      "outputs": [
        {
          "output_type": "stream",
          "name": "stdout",
          "text": [
            "           err                     left                      mid                     right          \n",
            "    4.500000000000000e+00        1.000000000000000        5.500000000000000        5.500000000000000\n",
            "    2.250000000000000e+00        3.250000000000000        3.250000000000000        5.500000000000000\n",
            "    1.125000000000000e+00        4.375000000000000        4.375000000000000        5.500000000000000\n",
            "    5.625000000000000e-01        4.937500000000000        4.937500000000000        5.500000000000000\n",
            "    2.812500000000000e-01        4.937500000000000        5.218750000000000        5.218750000000000\n",
            "    1.406250000000000e-01        4.937500000000000        5.078125000000000        5.078125000000000\n",
            "    7.031250000000000e-02        4.937500000000000        5.007812500000000        5.007812500000000\n",
            "    3.515625000000000e-02        4.972656250000000        4.972656250000000        5.007812500000000\n",
            "    1.757812500000000e-02        4.990234375000000        4.990234375000000        5.007812500000000\n",
            "    8.789062500000000e-03        4.999023437500000        4.999023437500000        5.007812500000000\n",
            "    4.394531250000000e-03        4.999023437500000        5.003417968750000        5.003417968750000\n",
            "    2.197265625000000e-03        4.999023437500000        5.001220703125000        5.001220703125000\n",
            "    1.098632812500000e-03        4.999023437500000        5.000122070312500        5.000122070312500\n",
            "    5.493164062500000e-04        4.999572753906250        4.999572753906250        5.000122070312500\n",
            "    2.746582031250000e-04        4.999847412109375        4.999847412109375        5.000122070312500\n",
            "    1.373291015625000e-04        4.999984741210938        4.999984741210938        5.000122070312500\n",
            "    6.866455078125000e-05        4.999984741210938        5.000053405761719        5.000053405761719\n",
            "    3.433227539062500e-05        4.999984741210938        5.000019073486328        5.000019073486328\n",
            "    1.716613769531250e-05        4.999984741210938        5.000001907348633        5.000001907348633\n",
            "    8.583068847656250e-06        4.999993324279785        4.999993324279785        5.000001907348633\n",
            "    4.291534423828125e-06        4.999997615814209        4.999997615814209        5.000001907348633\n",
            "    2.145767211914062e-06        4.999999761581421        4.999999761581421        5.000001907348633\n",
            "    1.072883605957031e-06        4.999999761581421        5.000000834465027        5.000000834465027\n",
            "    5.364418029785156e-07        4.999999761581421        5.000000298023224        5.000000298023224\n",
            "    2.682209014892578e-07        4.999999761581421        5.000000029802322        5.000000029802322\n",
            "    1.341104507446289e-07        4.999999895691872        4.999999895691872        5.000000029802322\n",
            "    6.705522537231445e-08        4.999999962747097        4.999999962747097        5.000000029802322\n",
            "    3.352761268615723e-08        4.999999996274710        4.999999996274710        5.000000029802322\n",
            "    1.676380634307861e-08        4.999999996274710        5.000000013038516        5.000000013038516\n",
            "    8.381903171539307e-09        4.999999996274710        5.000000004656613        5.000000004656613\n",
            "    4.190951585769653e-09        4.999999996274710        5.000000000465661        5.000000000465661\n",
            "    2.095475792884827e-09        4.999999998370185        4.999999998370185        5.000000000465661\n",
            "    1.047737896442413e-09        4.999999999417923        4.999999999417923        5.000000000465661\n",
            "    5.238689482212067e-10        4.999999999941792        4.999999999941792        5.000000000465661\n",
            "    2.619344741106033e-10        4.999999999941792        5.000000000203727        5.000000000203727\n",
            "    1.309672370553017e-10        4.999999999941792        5.000000000072760        5.000000000072760\n",
            "    6.548361852765083e-11        4.999999999941792        5.000000000007276        5.000000000007276\n",
            "root is between: 4.999999999941792  and  5.000000000007276\n"
          ]
        }
      ]
    },
    {
      "cell_type": "code",
      "source": [
        "# guess interval sizes\n",
        "L = 1 # initial length\n",
        "for n in range(50):\n",
        "  print(f\"{n}\\t{L/2**n}\")"
      ],
      "metadata": {
        "colab": {
          "base_uri": "https://localhost:8080/"
        },
        "id": "QfnbrksbC18q",
        "outputId": "4ee03408-f152-4a15-967e-a94b4f97fc62"
      },
      "execution_count": null,
      "outputs": [
        {
          "output_type": "stream",
          "name": "stdout",
          "text": [
            "0\t1.0\n",
            "1\t0.5\n",
            "2\t0.25\n",
            "3\t0.125\n",
            "4\t0.0625\n",
            "5\t0.03125\n",
            "6\t0.015625\n",
            "7\t0.0078125\n",
            "8\t0.00390625\n",
            "9\t0.001953125\n",
            "10\t0.0009765625\n",
            "11\t0.00048828125\n",
            "12\t0.000244140625\n",
            "13\t0.0001220703125\n",
            "14\t6.103515625e-05\n",
            "15\t3.0517578125e-05\n",
            "16\t1.52587890625e-05\n",
            "17\t7.62939453125e-06\n",
            "18\t3.814697265625e-06\n",
            "19\t1.9073486328125e-06\n",
            "20\t9.5367431640625e-07\n",
            "21\t4.76837158203125e-07\n",
            "22\t2.384185791015625e-07\n",
            "23\t1.1920928955078125e-07\n",
            "24\t5.960464477539063e-08\n",
            "25\t2.9802322387695312e-08\n",
            "26\t1.4901161193847656e-08\n",
            "27\t7.450580596923828e-09\n",
            "28\t3.725290298461914e-09\n",
            "29\t1.862645149230957e-09\n",
            "30\t9.313225746154785e-10\n",
            "31\t4.656612873077393e-10\n",
            "32\t2.3283064365386963e-10\n",
            "33\t1.1641532182693481e-10\n",
            "34\t5.820766091346741e-11\n",
            "35\t2.9103830456733704e-11\n",
            "36\t1.4551915228366852e-11\n",
            "37\t7.275957614183426e-12\n",
            "38\t3.637978807091713e-12\n",
            "39\t1.8189894035458565e-12\n",
            "40\t9.094947017729282e-13\n",
            "41\t4.547473508864641e-13\n",
            "42\t2.2737367544323206e-13\n",
            "43\t1.1368683772161603e-13\n",
            "44\t5.684341886080802e-14\n",
            "45\t2.842170943040401e-14\n",
            "46\t1.4210854715202004e-14\n",
            "47\t7.105427357601002e-15\n",
            "48\t3.552713678800501e-15\n",
            "49\t1.7763568394002505e-15\n"
          ]
        }
      ]
    },
    {
      "cell_type": "code",
      "source": [
        "N = np.arange(50)\n",
        "L0 = 1 #initial length\n",
        "L = (L0/2)**N\n",
        "plt.semilogy(N,L)\n",
        "plt.grid()\n",
        "plt.xlabel('Number of Bisection Steps')\n",
        "plt.ylabel('(Relative) Error')\n",
        "plt.title('Bisection Error')\n",
        "plt.show()"
      ],
      "metadata": {
        "colab": {
          "base_uri": "https://localhost:8080/",
          "height": 472
        },
        "id": "isoiSzdNC53U",
        "outputId": "1b44a2d2-c2e7-4f5f-eff0-b0175b2e3e50"
      },
      "execution_count": null,
      "outputs": [
        {
          "output_type": "display_data",
          "data": {
            "text/plain": [
              "<Figure size 640x480 with 1 Axes>"
            ],
            "image/png": "[encoded data removed]"
          },
          "metadata": {}
        }
      ]
    },
    {
      "cell_type": "markdown",
      "metadata": {
        "id": "_HfP1iHKBTdl"
      },
      "source": [
        "# Newton-Raphson\n",
        "Example of root finding using the Newton-Raphson.  This algorithm converges faster than bisection, but it requires knowing the derivative and is **not** guaranteed to converge"
      ]
    },
    {
      "cell_type": "code",
      "metadata": {
        "id": "_jzoT0X0BOgh"
      },
      "source": [
        "def f(x):\n",
        "  return x**2 + 4*x + 4"
      ],
      "execution_count": null,
      "outputs": []
    },
    {
      "cell_type": "code",
      "metadata": {
        "id": "wfgm8bS6CV98"
      },
      "source": [
        "def fprime(x):\n",
        "  return 2*x+4"
      ],
      "execution_count": null,
      "outputs": []
    },
    {
      "cell_type": "code",
      "metadata": {
        "colab": {
          "base_uri": "https://localhost:8080/",
          "height": 430
        },
        "id": "O0NK9bziBvdT",
        "outputId": "2976129c-27bf-4409-eaf2-a925dc20b772"
      },
      "source": [
        "x = np.linspace(-4,0)\n",
        "plt.plot(x, f(x))\n",
        "plt.grid()"
      ],
      "execution_count": null,
      "outputs": [
        {
          "output_type": "display_data",
          "data": {
            "text/plain": [
              "<Figure size 640x480 with 1 Axes>"
            ],
            "image/png": "[encoded data removed]"
          },
          "metadata": {}
        }
      ]
    },
    {
      "cell_type": "code",
      "metadata": {
        "colab": {
          "base_uri": "https://localhost:8080/"
        },
        "id": "AkM7TD_pDFX8",
        "outputId": "3245bac5-5413-4e81-f4d5-cb60808b4e8e"
      },
      "source": [
        "# ONE STEP\n",
        "xold = -3\n",
        "xnew = xold - f(xold)/fprime(xold)\n",
        "\n",
        "print('Initial Guess = ',xold)\n",
        "print('next guess is xnew =', xnew)"
      ],
      "execution_count": null,
      "outputs": [
        {
          "output_type": "stream",
          "name": "stdout",
          "text": [
            "Initial Guess =  -3\n",
            "next guess is xnew = -2.5\n"
          ]
        }
      ]
    },
    {
      "cell_type": "code",
      "metadata": {
        "colab": {
          "base_uri": "https://localhost:8080/"
        },
        "id": "uCvhyBmgDKRr",
        "outputId": "4ef2d897-b663-4adf-f758-b8ea04447985"
      },
      "source": [
        "# MANY STEPS\n",
        "STEPS = 10\n",
        "xold = -3\n",
        "print('Initial Guess = ',xold)\n",
        "\n",
        "for i in range(STEPS):\n",
        "  xnew = xold - f(xold)/fprime(xold)\n",
        "  print('next guess is xnew =', xnew)\n",
        "  xold = xnew"
      ],
      "execution_count": null,
      "outputs": [
        {
          "output_type": "stream",
          "name": "stdout",
          "text": [
            "Initial Guess =  -3\n",
            "next guess is xnew = -2.5\n",
            "next guess is xnew = -2.25\n",
            "next guess is xnew = -2.125\n",
            "next guess is xnew = -2.0625\n",
            "next guess is xnew = -2.03125\n",
            "next guess is xnew = -2.015625\n",
            "next guess is xnew = -2.0078125\n",
            "next guess is xnew = -2.00390625\n",
            "next guess is xnew = -2.001953125\n",
            "next guess is xnew = -2.0009765625\n"
          ]
        }
      ]
    },
    {
      "cell_type": "code",
      "source": [],
      "metadata": {
        "id": "3NM-LnceF_P-"
      },
      "execution_count": null,
      "outputs": []
    },
    {
      "cell_type": "markdown",
      "metadata": {
        "id": "RSuPvJBlGoK-"
      },
      "source": [
        "# SECANT METHOD"
      ]
    },
    {
      "cell_type": "code",
      "metadata": {
        "colab": {
          "base_uri": "https://localhost:8080/"
        },
        "id": "VOCDDh0jGqLP",
        "outputId": "4ed14584-ca82-4e92-a1eb-055b9e831581"
      },
      "source": [
        "x0 = -3\n",
        "x1 = x0 + 1e-3\n",
        "\n",
        "STEPS = 10\n",
        "print('Initial Guesses = ',x0,x1)\n",
        "\n",
        "for i in range(STEPS):\n",
        "  dem = f(x1)-f(x0)\n",
        "  x2 = x1 - f(x1)*(x1-x0)/dem\n",
        "  print('next guess is x2 =', x2)\n",
        "  x0 = x1\n",
        "  x1 = x2\n",
        "\n"
      ],
      "execution_count": null,
      "outputs": [
        {
          "output_type": "stream",
          "name": "stdout",
          "text": [
            "Initial Guesses =  -3 -2.999\n",
            "next guess is x2 = -2.4997498749374336\n",
            "next guess is x2 = -2.3331110370123223\n",
            "next guess is x2 = -2.1998799519807806\n",
            "next guess is x2 = -2.1249218456921293\n",
            "next guess is x2 = -2.076875721431314\n",
            "next guess is x2 = -2.0475895579268237\n",
            "next guess is x2 = -2.029393591667401\n",
            "next guess is x2 = -2.018170574219251\n",
            "next guess is x2 = -2.0112290088348472\n",
            "next guess is x2 = -2.006940150752016\n"
          ]
        }
      ]
    },
    {
      "cell_type": "markdown",
      "source": [],
      "metadata": {
        "id": "pNzUxhwuzxTl"
      }
    },
    {
      "cell_type": "markdown",
      "metadata": {
        "id": "GH6wTG9Wzxuk"
      },
      "source": [
        "# ROOT_SCALAR\n",
        "How to use root_scalar\n",
        "https://docs.scipy.org/doc/scipy/reference/generated/scipy.optimize.root_scalar.html\n"
      ]
    },
    {
      "cell_type": "code",
      "metadata": {
        "id": "g78Kvcy3zxuu"
      },
      "source": [
        "def f(x):\n",
        "  return x**2 - 4"
      ],
      "execution_count": null,
      "outputs": []
    },
    {
      "cell_type": "code",
      "metadata": {
        "id": "46umr20vU_Vo"
      },
      "source": [
        "def fprime(x):\n",
        "  return 2*x"
      ],
      "execution_count": null,
      "outputs": []
    },
    {
      "cell_type": "code",
      "metadata": {
        "colab": {
          "base_uri": "https://localhost:8080/",
          "height": 430
        },
        "id": "IdZN5BtGUwVz",
        "outputId": "eec758cc-d779-43ab-ea24-46c42a51ec04"
      },
      "source": [
        "x = np.linspace(-4,4)\n",
        "plt.axhline(0,color='k')\n",
        "plt.plot(x,f(x))\n",
        "plt.grid()"
      ],
      "execution_count": null,
      "outputs": [
        {
          "output_type": "display_data",
          "data": {
            "text/plain": [
              "<Figure size 640x480 with 1 Axes>"
            ],
            "image/png": "[encoded data removed]"
          },
          "metadata": {}
        }
      ]
    },
    {
      "cell_type": "code",
      "metadata": {
        "id": "0F3_Tj3hzxuq"
      },
      "source": [
        "from scipy.optimize import root_scalar"
      ],
      "execution_count": null,
      "outputs": []
    },
    {
      "cell_type": "code",
      "metadata": {
        "colab": {
          "base_uri": "https://localhost:8080/"
        },
        "id": "ZdKAGJGWVWcQ",
        "outputId": "b985c0bc-69b5-4219-e91a-244d2501a527"
      },
      "source": [
        "root_scalar(f, bracket=[0, 4] )    # use brackets"
      ],
      "execution_count": null,
      "outputs": [
        {
          "output_type": "execute_result",
          "data": {
            "text/plain": [
              "      converged: True\n",
              "           flag: converged\n",
              " function_calls: 10\n",
              "     iterations: 9\n",
              "           root: 2.0\n",
              "         method: brentq"
            ]
          },
          "metadata": {},
          "execution_count": 57
        }
      ]
    },
    {
      "cell_type": "code",
      "metadata": {
        "colab": {
          "base_uri": "https://localhost:8080/"
        },
        "id": "mei41bt9WL34",
        "outputId": "16425c62-1c33-4893-b3a9-3f31f0a395e3"
      },
      "source": [
        "sol = root_scalar(f, bracket=[0, 10] )    # use brackets\n",
        "x = sol.root  # the root\n",
        "print(x)"
      ],
      "execution_count": null,
      "outputs": [
        {
          "output_type": "stream",
          "name": "stdout",
          "text": [
            "2.0\n"
          ]
        }
      ]
    },
    {
      "cell_type": "code",
      "source": [
        "sol.root"
      ],
      "metadata": {
        "colab": {
          "base_uri": "https://localhost:8080/"
        },
        "id": "sSOpkWLVcWL9",
        "outputId": "6a21b52d-e7a5-47b3-8953-c9e07744588d"
      },
      "execution_count": null,
      "outputs": [
        {
          "output_type": "execute_result",
          "data": {
            "text/plain": [
              "2.0"
            ]
          },
          "metadata": {},
          "execution_count": 64
        }
      ]
    },
    {
      "cell_type": "code",
      "metadata": {
        "colab": {
          "base_uri": "https://localhost:8080/"
        },
        "id": "NlDaHQ07W3qw",
        "outputId": "ebdfdd9c-b72c-461a-bac9-ff08ad1637da"
      },
      "source": [
        "root_scalar(f, fprime=fprime, x0=-4 )    # use derivatives"
      ],
      "execution_count": null,
      "outputs": [
        {
          "output_type": "execute_result",
          "data": {
            "text/plain": [
              "      converged: True\n",
              "           flag: converged\n",
              " function_calls: 12\n",
              "     iterations: 6\n",
              "           root: -2.0\n",
              "         method: newton"
            ]
          },
          "metadata": {},
          "execution_count": 39
        }
      ]
    },
    {
      "cell_type": "code",
      "metadata": {
        "colab": {
          "base_uri": "https://localhost:8080/"
        },
        "id": "XKZIjtV4XLgv",
        "outputId": "b2a4e64c-4df9-4a78-ffec-3c0de0a2e43e"
      },
      "source": [
        "root_scalar(f, fprime=fprime, x0=0 )    # use derivatives, watch for zeros!!!!!"
      ],
      "execution_count": null,
      "outputs": [
        {
          "output_type": "stream",
          "name": "stderr",
          "text": [
            "/usr/local/lib/python3.10/dist-packages/scipy/optimize/_root_scalar.py:315: RuntimeWarning: Derivative was zero.\n",
            "  r, sol = methodc(f, x0, args=args, fprime=fprime, fprime2=None,\n"
          ]
        },
        {
          "output_type": "execute_result",
          "data": {
            "text/plain": [
              "      converged: False\n",
              "           flag: convergence error\n",
              " function_calls: 2\n",
              "     iterations: 1\n",
              "           root: 0.0\n",
              "         method: newton"
            ]
          },
          "metadata": {},
          "execution_count": 65
        }
      ]
    },
    {
      "cell_type": "code",
      "metadata": {
        "colab": {
          "base_uri": "https://localhost:8080/"
        },
        "id": "CRsWh4ldXhmu",
        "outputId": "93e483e1-2db4-437f-bfa0-b72e44070fe4"
      },
      "source": [
        "sol = root_scalar(f, fprime=fprime, x0=0 )    # use derivatives\n",
        "x = sol.root\n",
        "print('root = ',x)\n",
        "if sol.converged==False:\n",
        "  print('*****************WARNING!!!!!!***********')\n",
        "print(sol)"
      ],
      "execution_count": null,
      "outputs": [
        {
          "output_type": "stream",
          "name": "stdout",
          "text": [
            "root =  0.0\n",
            "*****************WARNING!!!!!!***********\n",
            "      converged: False\n",
            "           flag: convergence error\n",
            " function_calls: 2\n",
            "     iterations: 1\n",
            "           root: 0.0\n",
            "         method: newton\n"
          ]
        }
      ]
    },
    {
      "cell_type": "code",
      "metadata": {
        "colab": {
          "base_uri": "https://localhost:8080/"
        },
        "id": "U187FbVYX1w_",
        "outputId": "1af2f0ff-9052-44cf-c5de-b4afbfff6e88"
      },
      "source": [
        "root_scalar(f,x0=-4, x1=-2.5 )    # use two guesses"
      ],
      "execution_count": null,
      "outputs": [
        {
          "output_type": "execute_result",
          "data": {
            "text/plain": [
              "      converged: True\n",
              "           flag: converged\n",
              " function_calls: 7\n",
              "     iterations: 6\n",
              "           root: -2.000000000000058\n",
              "         method: secant"
            ]
          },
          "metadata": {},
          "execution_count": 67
        }
      ]
    },
    {
      "cell_type": "code",
      "metadata": {
        "colab": {
          "base_uri": "https://localhost:8080/"
        },
        "id": "UMSGPlC6YdLv",
        "outputId": "25a940ad-7834-4cca-c5c6-9c531d85f6f0"
      },
      "source": [
        "x0 = -4 # initial guess\n",
        "root_scalar(f,x0=x0, x1=x0+1e-4)    # use two guesses"
      ],
      "execution_count": null,
      "outputs": [
        {
          "output_type": "execute_result",
          "data": {
            "text/plain": [
              "      converged: True\n",
              "           flag: converged\n",
              " function_calls: 8\n",
              "     iterations: 7\n",
              "           root: -2.0000000000000004\n",
              "         method: secant"
            ]
          },
          "metadata": {},
          "execution_count": 68
        }
      ]
    },
    {
      "cell_type": "code",
      "source": [
        "x0 = -4 # initial guess\n",
        "root_scalar(f,x0=x0, x1=x0+1e-4,xtol=1e-4)    # use two guesses"
      ],
      "metadata": {
        "colab": {
          "base_uri": "https://localhost:8080/"
        },
        "id": "5L4FGxxdCqFd",
        "outputId": "a6610466-90bd-4fac-ca75-66533f549b6a"
      },
      "execution_count": null,
      "outputs": [
        {
          "output_type": "execute_result",
          "data": {
            "text/plain": [
              "      converged: True\n",
              "           flag: converged\n",
              " function_calls: 7\n",
              "     iterations: 6\n",
              "           root: -2.000000000382294\n",
              "         method: secant"
            ]
          },
          "metadata": {},
          "execution_count": 69
        }
      ]
    },
    {
      "cell_type": "markdown",
      "source": [
        "# PRACTICE"
      ],
      "metadata": {
        "id": "LN68jqwadfP4"
      }
    },
    {
      "cell_type": "code",
      "source": [
        "import numpy as np"
      ],
      "metadata": {
        "id": "id0W7FKldhRL"
      },
      "execution_count": null,
      "outputs": []
    },
    {
      "cell_type": "code",
      "source": [
        "from scipy.optimize import root_scalar"
      ],
      "metadata": {
        "id": "c72vnx62dj-r"
      },
      "execution_count": null,
      "outputs": []
    },
    {
      "cell_type": "code",
      "source": [
        "def f(x):  # function root_scalar will make zero\n",
        "  return x-10"
      ],
      "metadata": {
        "id": "_0xrCp5jdozf"
      },
      "execution_count": null,
      "outputs": []
    },
    {
      "cell_type": "code",
      "source": [
        "sol = root_scalar(f, bracket=[5,15])\n",
        "print(sol)"
      ],
      "metadata": {
        "colab": {
          "base_uri": "https://localhost:8080/"
        },
        "id": "ZDbDJvOPdt5b",
        "outputId": "df193e8d-7799-4f61-b768-3841b3f29f50"
      },
      "execution_count": null,
      "outputs": [
        {
          "output_type": "stream",
          "name": "stdout",
          "text": [
            "      converged: True\n",
            "           flag: converged\n",
            " function_calls: 3\n",
            "     iterations: 2\n",
            "           root: 10.0\n",
            "         method: brentq\n"
          ]
        }
      ]
    },
    {
      "cell_type": "code",
      "source": [
        "print('The answer is x=', sol.root)"
      ],
      "metadata": {
        "colab": {
          "base_uri": "https://localhost:8080/"
        },
        "id": "4KHH3YzVd359",
        "outputId": "cb7ad020-8ccd-44d5-9137-a3cfbd1ec514"
      },
      "execution_count": null,
      "outputs": [
        {
          "output_type": "stream",
          "name": "stdout",
          "text": [
            "The answer is x= 10.0\n"
          ]
        }
      ]
    }
  ]
}